{
  "nbformat": 4,
  "nbformat_minor": 0,
  "metadata": {
    "colab": {
      "name": "dvc_neck_shallow.ipynb",
      "version": "0.3.2",
      "provenance": [],
      "collapsed_sections": []
    },
    "kernelspec": {
      "name": "python3",
      "display_name": "Python 3"
    },
    "accelerator": "TPU"
  },
  "cells": [
    {
      "metadata": {
        "id": "Vu9FQ1kD34ju",
        "colab_type": "code",
        "colab": {}
      },
      "cell_type": "code",
      "source": [
        "import numpy as np\n",
        "import tensorflow as tf\n",
        "import functools, os, json, datetime"
      ],
      "execution_count": 0,
      "outputs": []
    },
    {
      "metadata": {
        "id": "jdfNFS8q4H_B",
        "colab_type": "code",
        "colab": {}
      },
      "cell_type": "code",
      "source": [
        "BUCKET = 'gs://gs_colab' #@param {type: \"string\"}\n",
        "NUM_NECK = 1536\n",
        "\n",
        "BATCH_SIZE = 512 #@param {type: \"integer\"}\n",
        "EPOCHS = 50 #@param {type:\"integer\"}\n"
      ],
      "execution_count": 0,
      "outputs": []
    },
    {
      "metadata": {
        "id": "UUoHe4JI4UBf",
        "colab_type": "code",
        "outputId": "e2277e2d-d420-4330-a308-45a2c80209d9",
        "colab": {
          "base_uri": "https://localhost:8080/",
          "height": 34
        }
      },
      "cell_type": "code",
      "source": [
        "TPU_ADDRESS = f'grpc://{os.environ[\"COLAB_TPU_ADDR\"]}'\n",
        "TPU_ADDRESS"
      ],
      "execution_count": 3,
      "outputs": [
        {
          "output_type": "execute_result",
          "data": {
            "text/plain": [
              "'grpc://10.27.254.50:8470'"
            ]
          },
          "metadata": {
            "tags": []
          },
          "execution_count": 3
        }
      ]
    },
    {
      "metadata": {
        "id": "LM5mrdER4Yl-",
        "colab_type": "code",
        "outputId": "a751ada8-0b44-486f-8fed-7cbbe97d1db3",
        "colab": {
          "base_uri": "https://localhost:8080/",
          "height": 136
        }
      },
      "cell_type": "code",
      "source": [
        "from google.colab import auth\n",
        "auth.authenticate_user()\n",
        "  \n",
        "# Upload the credentials to TPU.\n",
        "with tf.Session(TPU_ADDRESS) as sess:    \n",
        "  with open('/content/adc.json', 'r') as f:\n",
        "    auth_info = json.load(f)\n",
        "  tf.contrib.cloud.configure_gcs(sess, credentials=auth_info)"
      ],
      "execution_count": 4,
      "outputs": [
        {
          "output_type": "stream",
          "text": [
            "\n",
            "WARNING: The TensorFlow contrib module will not be included in TensorFlow 2.0.\n",
            "For more information, please see:\n",
            "  * https://github.com/tensorflow/community/blob/master/rfcs/20180907-contrib-sunset.md\n",
            "  * https://github.com/tensorflow/addons\n",
            "If you depend on functionality not listed there, please file an issue.\n",
            "\n"
          ],
          "name": "stdout"
        }
      ]
    },
    {
      "metadata": {
        "id": "u0Msb1Ly4jFN",
        "colab_type": "code",
        "colab": {}
      },
      "cell_type": "code",
      "source": [
        "def _parse(serialized_example):\n",
        "  features = tf.parse_single_example(\n",
        "    serialized_example,\n",
        "    features={\n",
        "        'neck': tf.FixedLenFeature([NUM_NECK], tf.float32),\n",
        "        \"label\": tf.FixedLenFeature([], tf.int64),\n",
        "    })\n",
        "\n",
        "  neck = features['neck']\n",
        "  label = features['label']\n",
        "  return neck, label"
      ],
      "execution_count": 0,
      "outputs": []
    },
    {
      "metadata": {
        "id": "H0trz-885EYK",
        "colab_type": "code",
        "colab": {}
      },
      "cell_type": "code",
      "source": [
        "def get_ds_from_tfrec(data_dir, training, batch_size=BATCH_SIZE, num_parallel_calls=2):\n",
        "  file_pattern = os.path.join(data_dir, 'train*' if training else 'valid*')\n",
        "  dataset = tf.data.Dataset.list_files(file_pattern)\n",
        "\n",
        "  def fetch_dataset(filename):\n",
        "    buffer_size = 8 * 1024 * 1024  # 8 MiB per file\n",
        "    dataset = tf.data.TFRecordDataset(filename, buffer_size=buffer_size)\n",
        "    return dataset\n",
        "\n",
        "  dataset = dataset.apply(\n",
        "    tf.data.experimental.parallel_interleave(\n",
        "      fetch_dataset, cycle_length=num_parallel_calls, sloppy=True))\n",
        "  \n",
        "  if training:\n",
        "    dataset = dataset.shuffle(50000, reshuffle_each_iteration=True)\n",
        "    \n",
        "  dataset = dataset.repeat()\n",
        "  \n",
        "  dataset = dataset.apply(\n",
        "    tf.data.experimental.map_and_batch(\n",
        "      _parse,\n",
        "      batch_size=batch_size,\n",
        "      num_parallel_batches=num_parallel_calls,\n",
        "      drop_remainder=True))\n",
        "\n",
        "  dataset = dataset.prefetch(tf.contrib.data.AUTOTUNE)\n",
        "  return dataset"
      ],
      "execution_count": 0,
      "outputs": []
    },
    {
      "metadata": {
        "id": "yQ8iWtxU6Ux6",
        "colab_type": "code",
        "colab": {}
      },
      "cell_type": "code",
      "source": [
        "data_dir = f'{BUCKET}/dvc_ir2'\n",
        "\n",
        "train_input_fn = lambda params: get_ds_from_tfrec(data_dir, training=True)\n",
        "valid_input_fn = lambda params: get_ds_from_tfrec(data_dir, training=False)"
      ],
      "execution_count": 0,
      "outputs": []
    },
    {
      "metadata": {
        "id": "eM35mI5u9Uhi",
        "colab_type": "code",
        "colab": {}
      },
      "cell_type": "code",
      "source": [
        "def model_fn(features, labels, mode, params):\n",
        "  phase = 1 if mode == tf.estimator.ModeKeys.TRAIN else 0\n",
        "  tf.keras.backend.set_learning_phase(phase)\n",
        "\n",
        "  dense1 = tf.keras.layers.Dense(256, activation='relu')\n",
        "#   dropout1 = tf.keras.layers.Dropout(0.5)\n",
        "  dense2 = tf.keras.layers.Dense(2)\n",
        "#   logits = dense2(dropout1(dense1(features)))\n",
        "  logits = dense2(dense1(features))\n",
        "\n",
        "  loss = tf.losses.sparse_softmax_cross_entropy(labels, logits)\n",
        "  step = tf.train.get_or_create_global_step()\n",
        "    \n",
        "  opt = tf.train.AdamOptimizer()\n",
        "  opt = tf.contrib.tpu.CrossShardOptimizer(opt)\n",
        "  train_op = opt.minimize(loss, global_step=step)\n",
        "\n",
        "  classes = tf.math.argmax(logits, axis=-1)\n",
        "  metric_fn = lambda classes, labels: {'accuracy': tf.metrics.accuracy(classes, labels)}\n",
        "  tpu_metrics = (metric_fn, [classes, labels])\n",
        "    \n",
        "  return tf.contrib.tpu.TPUEstimatorSpec(mode, loss=loss, train_op=train_op, \n",
        "                                           eval_metrics = tpu_metrics)"
      ],
      "execution_count": 0,
      "outputs": []
    },
    {
      "metadata": {
        "id": "UeyOIfPXl09Q",
        "colab_type": "code",
        "outputId": "2447195f-5d39-4a38-9fbc-a195995dbdde",
        "colab": {
          "base_uri": "https://localhost:8080/",
          "height": 258
        }
      },
      "cell_type": "code",
      "source": [
        "len_train = 23000\n",
        "len_valid = 2000\n",
        "steps_per_epoch = len_train // BATCH_SIZE\n",
        "\n",
        "now = datetime.datetime.now()\n",
        "MODEL_DIR = BUCKET+\"/dvc_jobs/job-{}-{:02d}-{:02d}-{:02d}:{:02d}:{:02d}\".format(now.year, now.month, now.day, now.hour, now.minute, now.second)\n",
        "\n",
        "training_config = tf.contrib.tpu.RunConfig(\n",
        "    cluster=tf.contrib.cluster_resolver.TPUClusterResolver(TPU_ADDRESS),\n",
        "    model_dir=MODEL_DIR,\n",
        "    tpu_config=tf.contrib.tpu.TPUConfig(\n",
        "    iterations_per_loop=steps_per_epoch,\n",
        "    per_host_input_for_training=tf.contrib.tpu.InputPipelineConfig.PER_HOST_V2))\n",
        "   \n",
        "estimator = tf.contrib.tpu.TPUEstimator(\n",
        "    model_fn=model_fn,\n",
        "    model_dir=MODEL_DIR,\n",
        "    train_batch_size=BATCH_SIZE,\n",
        "    eval_batch_size=len_valid,\n",
        "    config=training_config)"
      ],
      "execution_count": 9,
      "outputs": [
        {
          "output_type": "stream",
          "text": [
            "WARNING:tensorflow:Estimator's model_fn (<function model_fn at 0x7f270f6f41e0>) includes params argument, but params are not passed to Estimator.\n",
            "INFO:tensorflow:Using config: {'_model_dir': 'gs://gs_colab/dvc_jobs/job-2019-03-23-20:39:21', '_tf_random_seed': None, '_save_summary_steps': 100, '_save_checkpoints_steps': None, '_save_checkpoints_secs': 600, '_session_config': allow_soft_placement: true\n",
            "cluster_def {\n",
            "  job {\n",
            "    name: \"worker\"\n",
            "    tasks {\n",
            "      key: 0\n",
            "      value: \"10.27.254.50:8470\"\n",
            "    }\n",
            "  }\n",
            "}\n",
            ", '_keep_checkpoint_max': 5, '_keep_checkpoint_every_n_hours': 10000, '_log_step_count_steps': None, '_train_distribute': None, '_device_fn': None, '_protocol': None, '_eval_distribute': None, '_experimental_distribute': None, '_service': None, '_cluster_spec': <tensorflow.python.training.server_lib.ClusterSpec object at 0x7f2717735470>, '_task_type': 'worker', '_task_id': 0, '_global_id_in_cluster': 0, '_master': 'grpc://10.27.254.50:8470', '_evaluation_master': 'grpc://10.27.254.50:8470', '_is_chief': True, '_num_ps_replicas': 0, '_num_worker_replicas': 1, '_tpu_config': TPUConfig(iterations_per_loop=44, num_shards=None, num_cores_per_replica=None, per_host_input_for_training=3, tpu_job_name=None, initial_infeed_sleep_secs=None, input_partition_dims=None), '_cluster': <tensorflow.python.distribute.cluster_resolver.tpu_cluster_resolver.TPUClusterResolver object at 0x7f2717735080>}\n",
            "INFO:tensorflow:_TPUContext: eval_on_tpu True\n"
          ],
          "name": "stdout"
        }
      ]
    },
    {
      "metadata": {
        "id": "MbOPnOLYmt8Z",
        "colab_type": "code",
        "outputId": "44cd1d80-50da-4819-dfd0-e04777423ff4",
        "colab": {
          "base_uri": "https://localhost:8080/",
          "height": 3488
        }
      },
      "cell_type": "code",
      "source": [
        "estimator.train(train_input_fn, steps=steps_per_epoch*EPOCHS)"
      ],
      "execution_count": 10,
      "outputs": [
        {
          "output_type": "stream",
          "text": [
            "INFO:tensorflow:Querying Tensorflow master (grpc://10.27.254.50:8470) for TPU system metadata.\n",
            "INFO:tensorflow:Found TPU system:\n",
            "INFO:tensorflow:*** Num TPU Cores: 8\n",
            "INFO:tensorflow:*** Num TPU Workers: 1\n",
            "INFO:tensorflow:*** Num TPU Cores Per Worker: 8\n",
            "INFO:tensorflow:*** Available Device: _DeviceAttributes(/job:worker/replica:0/task:0/device:CPU:0, CPU, -1, 14529340411014639260)\n",
            "INFO:tensorflow:*** Available Device: _DeviceAttributes(/job:worker/replica:0/task:0/device:XLA_CPU:0, XLA_CPU, 17179869184, 4494893675167142098)\n",
            "INFO:tensorflow:*** Available Device: _DeviceAttributes(/job:worker/replica:0/task:0/device:TPU:0, TPU, 17179869184, 48285550346468396)\n",
            "INFO:tensorflow:*** Available Device: _DeviceAttributes(/job:worker/replica:0/task:0/device:TPU:1, TPU, 17179869184, 2792205893177002525)\n",
            "INFO:tensorflow:*** Available Device: _DeviceAttributes(/job:worker/replica:0/task:0/device:TPU:2, TPU, 17179869184, 10141940144573909372)\n",
            "INFO:tensorflow:*** Available Device: _DeviceAttributes(/job:worker/replica:0/task:0/device:TPU:3, TPU, 17179869184, 16381462816073407732)\n",
            "INFO:tensorflow:*** Available Device: _DeviceAttributes(/job:worker/replica:0/task:0/device:TPU:4, TPU, 17179869184, 11953169809912001813)\n",
            "INFO:tensorflow:*** Available Device: _DeviceAttributes(/job:worker/replica:0/task:0/device:TPU:5, TPU, 17179869184, 8002825133337490866)\n",
            "INFO:tensorflow:*** Available Device: _DeviceAttributes(/job:worker/replica:0/task:0/device:TPU:6, TPU, 17179869184, 12601889380532633816)\n",
            "INFO:tensorflow:*** Available Device: _DeviceAttributes(/job:worker/replica:0/task:0/device:TPU:7, TPU, 17179869184, 8067534457507568573)\n",
            "INFO:tensorflow:*** Available Device: _DeviceAttributes(/job:worker/replica:0/task:0/device:TPU_SYSTEM:0, TPU_SYSTEM, 17179869184, 8320244613022425118)\n",
            "WARNING:tensorflow:From /usr/local/lib/python3.6/dist-packages/tensorflow/python/ops/resource_variable_ops.py:435: colocate_with (from tensorflow.python.framework.ops) is deprecated and will be removed in a future version.\n",
            "Instructions for updating:\n",
            "Colocations handled automatically by placer.\n",
            "INFO:tensorflow:Calling model_fn.\n",
            "WARNING:tensorflow:From /usr/local/lib/python3.6/dist-packages/tensorflow/python/ops/losses/losses_impl.py:209: to_float (from tensorflow.python.ops.math_ops) is deprecated and will be removed in a future version.\n",
            "Instructions for updating:\n",
            "Use tf.cast instead.\n",
            "INFO:tensorflow:Create CheckpointSaverHook.\n",
            "INFO:tensorflow:Done calling model_fn.\n",
            "INFO:tensorflow:TPU job name worker\n",
            "INFO:tensorflow:Graph was finalized.\n",
            "INFO:tensorflow:Running local_init_op.\n",
            "INFO:tensorflow:Done running local_init_op.\n",
            "INFO:tensorflow:Saving checkpoints for 0 into gs://gs_colab/dvc_jobs/job-2019-03-23-20:39:21/model.ckpt.\n",
            "INFO:tensorflow:Initialized dataset iterators in 0 seconds\n",
            "INFO:tensorflow:Installing graceful shutdown hook.\n",
            "INFO:tensorflow:Creating heartbeat manager for ['/job:worker/replica:0/task:0/device:CPU:0']\n",
            "INFO:tensorflow:Configuring worker heartbeat: shutdown_mode: WAIT_FOR_COORDINATOR\n",
            "\n",
            "INFO:tensorflow:Init TPU system\n",
            "INFO:tensorflow:Initialized TPU in 7 seconds\n",
            "INFO:tensorflow:Starting infeed thread controller.\n",
            "INFO:tensorflow:Starting outfeed thread controller.\n",
            "INFO:tensorflow:Enqueue next (44) batch(es) of data to infeed.\n",
            "INFO:tensorflow:Dequeue next (44) batch(es) of data from outfeed.\n",
            "INFO:tensorflow:loss = 0.6616964, step = 44\n",
            "INFO:tensorflow:Enqueue next (44) batch(es) of data to infeed.\n",
            "INFO:tensorflow:Dequeue next (44) batch(es) of data from outfeed.\n",
            "INFO:tensorflow:Enqueue next (44) batch(es) of data to infeed.\n",
            "INFO:tensorflow:Dequeue next (44) batch(es) of data from outfeed.\n",
            "INFO:tensorflow:Enqueue next (44) batch(es) of data to infeed.\n",
            "INFO:tensorflow:Dequeue next (44) batch(es) of data from outfeed.\n",
            "INFO:tensorflow:loss = 0.6516131, step = 176 (10.425 sec)\n",
            "INFO:tensorflow:global_step/sec: 12.657\n",
            "INFO:tensorflow:examples/sec: 6480.37\n",
            "INFO:tensorflow:Enqueue next (44) batch(es) of data to infeed.\n",
            "INFO:tensorflow:Dequeue next (44) batch(es) of data from outfeed.\n",
            "INFO:tensorflow:Enqueue next (44) batch(es) of data to infeed.\n",
            "INFO:tensorflow:Dequeue next (44) batch(es) of data from outfeed.\n",
            "INFO:tensorflow:Enqueue next (44) batch(es) of data to infeed.\n",
            "INFO:tensorflow:Dequeue next (44) batch(es) of data from outfeed.\n",
            "INFO:tensorflow:loss = 0.655647, step = 308 (9.821 sec)\n",
            "INFO:tensorflow:global_step/sec: 13.4418\n",
            "INFO:tensorflow:examples/sec: 6882.2\n",
            "INFO:tensorflow:Enqueue next (44) batch(es) of data to infeed.\n",
            "INFO:tensorflow:Dequeue next (44) batch(es) of data from outfeed.\n",
            "INFO:tensorflow:Enqueue next (44) batch(es) of data to infeed.\n",
            "INFO:tensorflow:Dequeue next (44) batch(es) of data from outfeed.\n",
            "INFO:tensorflow:Enqueue next (44) batch(es) of data to infeed.\n",
            "INFO:tensorflow:Dequeue next (44) batch(es) of data from outfeed.\n",
            "INFO:tensorflow:loss = 0.63161063, step = 440 (9.742 sec)\n",
            "INFO:tensorflow:global_step/sec: 13.5532\n",
            "INFO:tensorflow:examples/sec: 6939.25\n",
            "INFO:tensorflow:Enqueue next (44) batch(es) of data to infeed.\n",
            "INFO:tensorflow:Dequeue next (44) batch(es) of data from outfeed.\n",
            "INFO:tensorflow:Enqueue next (44) batch(es) of data to infeed.\n",
            "INFO:tensorflow:Dequeue next (44) batch(es) of data from outfeed.\n",
            "INFO:tensorflow:Enqueue next (44) batch(es) of data to infeed.\n",
            "INFO:tensorflow:Dequeue next (44) batch(es) of data from outfeed.\n",
            "INFO:tensorflow:loss = 0.61330086, step = 572 (9.527 sec)\n",
            "INFO:tensorflow:global_step/sec: 13.8538\n",
            "INFO:tensorflow:examples/sec: 7093.13\n",
            "INFO:tensorflow:Enqueue next (44) batch(es) of data to infeed.\n",
            "INFO:tensorflow:Dequeue next (44) batch(es) of data from outfeed.\n",
            "INFO:tensorflow:Enqueue next (44) batch(es) of data to infeed.\n",
            "INFO:tensorflow:Dequeue next (44) batch(es) of data from outfeed.\n",
            "INFO:tensorflow:Enqueue next (44) batch(es) of data to infeed.\n",
            "INFO:tensorflow:Dequeue next (44) batch(es) of data from outfeed.\n",
            "INFO:tensorflow:loss = 0.6002794, step = 704 (9.873 sec)\n",
            "INFO:tensorflow:global_step/sec: 13.3723\n",
            "INFO:tensorflow:examples/sec: 6846.62\n",
            "INFO:tensorflow:Enqueue next (44) batch(es) of data to infeed.\n",
            "INFO:tensorflow:Dequeue next (44) batch(es) of data from outfeed.\n",
            "INFO:tensorflow:Enqueue next (44) batch(es) of data to infeed.\n",
            "INFO:tensorflow:Dequeue next (44) batch(es) of data from outfeed.\n",
            "INFO:tensorflow:Enqueue next (44) batch(es) of data to infeed.\n",
            "INFO:tensorflow:Dequeue next (44) batch(es) of data from outfeed.\n",
            "INFO:tensorflow:loss = 0.5796139, step = 836 (9.588 sec)\n",
            "INFO:tensorflow:global_step/sec: 13.7627\n",
            "INFO:tensorflow:examples/sec: 7046.5\n",
            "INFO:tensorflow:Enqueue next (44) batch(es) of data to infeed.\n",
            "INFO:tensorflow:Dequeue next (44) batch(es) of data from outfeed.\n",
            "INFO:tensorflow:Enqueue next (44) batch(es) of data to infeed.\n",
            "INFO:tensorflow:Dequeue next (44) batch(es) of data from outfeed.\n",
            "INFO:tensorflow:Enqueue next (44) batch(es) of data to infeed.\n",
            "INFO:tensorflow:Dequeue next (44) batch(es) of data from outfeed.\n",
            "INFO:tensorflow:loss = 0.5589861, step = 968 (9.772 sec)\n",
            "INFO:tensorflow:global_step/sec: 13.5127\n",
            "INFO:tensorflow:examples/sec: 6918.51\n",
            "INFO:tensorflow:Enqueue next (44) batch(es) of data to infeed.\n",
            "INFO:tensorflow:Dequeue next (44) batch(es) of data from outfeed.\n",
            "INFO:tensorflow:Enqueue next (44) batch(es) of data to infeed.\n",
            "INFO:tensorflow:Dequeue next (44) batch(es) of data from outfeed.\n",
            "INFO:tensorflow:Enqueue next (44) batch(es) of data to infeed.\n",
            "INFO:tensorflow:Dequeue next (44) batch(es) of data from outfeed.\n",
            "INFO:tensorflow:loss = 0.5936249, step = 1100 (9.758 sec)\n",
            "INFO:tensorflow:global_step/sec: 13.5263\n",
            "INFO:tensorflow:examples/sec: 6925.45\n",
            "INFO:tensorflow:Enqueue next (44) batch(es) of data to infeed.\n",
            "INFO:tensorflow:Dequeue next (44) batch(es) of data from outfeed.\n",
            "INFO:tensorflow:Enqueue next (44) batch(es) of data to infeed.\n",
            "INFO:tensorflow:Dequeue next (44) batch(es) of data from outfeed.\n",
            "INFO:tensorflow:Enqueue next (44) batch(es) of data to infeed.\n",
            "INFO:tensorflow:Dequeue next (44) batch(es) of data from outfeed.\n",
            "INFO:tensorflow:loss = 0.585219, step = 1232 (9.682 sec)\n",
            "INFO:tensorflow:global_step/sec: 13.6299\n",
            "INFO:tensorflow:examples/sec: 6978.49\n",
            "INFO:tensorflow:Enqueue next (44) batch(es) of data to infeed.\n",
            "INFO:tensorflow:Dequeue next (44) batch(es) of data from outfeed.\n",
            "INFO:tensorflow:Enqueue next (44) batch(es) of data to infeed.\n",
            "INFO:tensorflow:Dequeue next (44) batch(es) of data from outfeed.\n",
            "INFO:tensorflow:Enqueue next (44) batch(es) of data to infeed.\n",
            "INFO:tensorflow:Dequeue next (44) batch(es) of data from outfeed.\n",
            "INFO:tensorflow:loss = 0.5483797, step = 1364 (9.640 sec)\n",
            "INFO:tensorflow:global_step/sec: 13.6965\n",
            "INFO:tensorflow:examples/sec: 7012.6\n",
            "INFO:tensorflow:Enqueue next (44) batch(es) of data to infeed.\n",
            "INFO:tensorflow:Dequeue next (44) batch(es) of data from outfeed.\n",
            "INFO:tensorflow:Enqueue next (44) batch(es) of data to infeed.\n",
            "INFO:tensorflow:Dequeue next (44) batch(es) of data from outfeed.\n",
            "INFO:tensorflow:Enqueue next (44) batch(es) of data to infeed.\n",
            "INFO:tensorflow:Dequeue next (44) batch(es) of data from outfeed.\n",
            "INFO:tensorflow:loss = 0.54707605, step = 1496 (9.799 sec)\n",
            "INFO:tensorflow:global_step/sec: 13.4695\n",
            "INFO:tensorflow:examples/sec: 6896.37\n",
            "INFO:tensorflow:Enqueue next (44) batch(es) of data to infeed.\n",
            "INFO:tensorflow:Dequeue next (44) batch(es) of data from outfeed.\n",
            "INFO:tensorflow:Enqueue next (44) batch(es) of data to infeed.\n",
            "INFO:tensorflow:Dequeue next (44) batch(es) of data from outfeed.\n",
            "INFO:tensorflow:Enqueue next (44) batch(es) of data to infeed.\n",
            "INFO:tensorflow:Dequeue next (44) batch(es) of data from outfeed.\n",
            "INFO:tensorflow:loss = 0.533152, step = 1628 (10.053 sec)\n",
            "INFO:tensorflow:global_step/sec: 13.1308\n",
            "INFO:tensorflow:examples/sec: 6722.98\n",
            "INFO:tensorflow:Enqueue next (44) batch(es) of data to infeed.\n",
            "INFO:tensorflow:Dequeue next (44) batch(es) of data from outfeed.\n",
            "INFO:tensorflow:Enqueue next (44) batch(es) of data to infeed.\n",
            "INFO:tensorflow:Dequeue next (44) batch(es) of data from outfeed.\n",
            "INFO:tensorflow:Enqueue next (44) batch(es) of data to infeed.\n",
            "INFO:tensorflow:Dequeue next (44) batch(es) of data from outfeed.\n",
            "INFO:tensorflow:loss = 0.53736746, step = 1760 (10.790 sec)\n",
            "INFO:tensorflow:global_step/sec: 12.2341\n",
            "INFO:tensorflow:examples/sec: 6263.87\n",
            "INFO:tensorflow:Enqueue next (44) batch(es) of data to infeed.\n",
            "INFO:tensorflow:Dequeue next (44) batch(es) of data from outfeed.\n",
            "INFO:tensorflow:Enqueue next (44) batch(es) of data to infeed.\n",
            "INFO:tensorflow:Dequeue next (44) batch(es) of data from outfeed.\n",
            "INFO:tensorflow:Enqueue next (44) batch(es) of data to infeed.\n",
            "INFO:tensorflow:Dequeue next (44) batch(es) of data from outfeed.\n",
            "INFO:tensorflow:loss = 0.5277205, step = 1892 (10.938 sec)\n",
            "INFO:tensorflow:global_step/sec: 12.068\n",
            "INFO:tensorflow:examples/sec: 6178.84\n",
            "INFO:tensorflow:Enqueue next (44) batch(es) of data to infeed.\n",
            "INFO:tensorflow:Dequeue next (44) batch(es) of data from outfeed.\n",
            "INFO:tensorflow:Enqueue next (44) batch(es) of data to infeed.\n",
            "INFO:tensorflow:Dequeue next (44) batch(es) of data from outfeed.\n",
            "INFO:tensorflow:Enqueue next (44) batch(es) of data to infeed.\n",
            "INFO:tensorflow:Dequeue next (44) batch(es) of data from outfeed.\n",
            "INFO:tensorflow:loss = 0.56030154, step = 2024 (10.489 sec)\n",
            "INFO:tensorflow:global_step/sec: 12.5852\n",
            "INFO:tensorflow:examples/sec: 6443.64\n",
            "INFO:tensorflow:Enqueue next (44) batch(es) of data to infeed.\n",
            "INFO:tensorflow:Dequeue next (44) batch(es) of data from outfeed.\n",
            "INFO:tensorflow:Enqueue next (44) batch(es) of data to infeed.\n",
            "INFO:tensorflow:Dequeue next (44) batch(es) of data from outfeed.\n",
            "INFO:tensorflow:Enqueue next (44) batch(es) of data to infeed.\n",
            "INFO:tensorflow:Dequeue next (44) batch(es) of data from outfeed.\n",
            "INFO:tensorflow:loss = 0.5273083, step = 2156 (10.844 sec)\n",
            "INFO:tensorflow:global_step/sec: 12.1725\n",
            "INFO:tensorflow:examples/sec: 6232.31\n",
            "INFO:tensorflow:Enqueue next (44) batch(es) of data to infeed.\n",
            "INFO:tensorflow:Dequeue next (44) batch(es) of data from outfeed.\n",
            "INFO:tensorflow:Saving checkpoints for 2200 into gs://gs_colab/dvc_jobs/job-2019-03-23-20:39:21/model.ckpt.\n",
            "INFO:tensorflow:Stop infeed thread controller\n",
            "INFO:tensorflow:Shutting down InfeedController thread.\n",
            "INFO:tensorflow:InfeedController received shutdown signal, stopping.\n",
            "INFO:tensorflow:Infeed thread finished, shutting down.\n",
            "INFO:tensorflow:infeed marked as finished\n",
            "INFO:tensorflow:Stop output thread controller\n",
            "INFO:tensorflow:Shutting down OutfeedController thread.\n",
            "INFO:tensorflow:OutfeedController received shutdown signal, stopping.\n",
            "INFO:tensorflow:Outfeed thread finished, shutting down.\n",
            "INFO:tensorflow:outfeed marked as finished\n",
            "INFO:tensorflow:Shutdown TPU system.\n",
            "INFO:tensorflow:Loss for final step: 0.5416058.\n",
            "INFO:tensorflow:training_loop marked as finished\n"
          ],
          "name": "stdout"
        },
        {
          "output_type": "execute_result",
          "data": {
            "text/plain": [
              "<tensorflow.contrib.tpu.python.tpu.tpu_estimator.TPUEstimator at 0x7f27177350b8>"
            ]
          },
          "metadata": {
            "tags": []
          },
          "execution_count": 10
        }
      ]
    },
    {
      "metadata": {
        "id": "GAb1SBHnns8v",
        "colab_type": "code",
        "outputId": "edf89f4a-9a68-4f27-ce73-b71b2c903d9b",
        "colab": {
          "base_uri": "https://localhost:8080/",
          "height": 683
        }
      },
      "cell_type": "code",
      "source": [
        "estimator.evaluate(input_fn=valid_input_fn, steps=1)"
      ],
      "execution_count": 11,
      "outputs": [
        {
          "output_type": "stream",
          "text": [
            "INFO:tensorflow:Calling model_fn.\n",
            "WARNING:tensorflow:From /usr/local/lib/python3.6/dist-packages/tensorflow/contrib/tpu/python/tpu/tpu_estimator.py:2655: div (from tensorflow.python.ops.math_ops) is deprecated and will be removed in a future version.\n",
            "Instructions for updating:\n",
            "Deprecated in favor of operator or tf.math.divide.\n",
            "INFO:tensorflow:Done calling model_fn.\n",
            "INFO:tensorflow:Starting evaluation at 2019-03-23T20:42:55Z\n",
            "INFO:tensorflow:TPU job name worker\n",
            "INFO:tensorflow:Graph was finalized.\n",
            "WARNING:tensorflow:From /usr/local/lib/python3.6/dist-packages/tensorflow/python/training/saver.py:1266: checkpoint_exists (from tensorflow.python.training.checkpoint_management) is deprecated and will be removed in a future version.\n",
            "Instructions for updating:\n",
            "Use standard file APIs to check for files with this prefix.\n",
            "INFO:tensorflow:Restoring parameters from gs://gs_colab/dvc_jobs/job-2019-03-23-20:39:21/model.ckpt-2200\n",
            "INFO:tensorflow:Running local_init_op.\n",
            "INFO:tensorflow:Done running local_init_op.\n",
            "INFO:tensorflow:Init TPU system\n",
            "INFO:tensorflow:Initialized TPU in 7 seconds\n",
            "INFO:tensorflow:Starting infeed thread controller.\n",
            "INFO:tensorflow:Starting outfeed thread controller.\n",
            "INFO:tensorflow:Initialized dataset iterators in 0 seconds\n",
            "INFO:tensorflow:Enqueue next (1) batch(es) of data to infeed.\n",
            "INFO:tensorflow:Dequeue next (1) batch(es) of data from outfeed.\n",
            "INFO:tensorflow:Evaluation [1/1]\n",
            "INFO:tensorflow:Stop infeed thread controller\n",
            "INFO:tensorflow:Shutting down InfeedController thread.\n",
            "INFO:tensorflow:InfeedController received shutdown signal, stopping.\n",
            "INFO:tensorflow:Infeed thread finished, shutting down.\n",
            "INFO:tensorflow:infeed marked as finished\n",
            "INFO:tensorflow:Stop output thread controller\n",
            "INFO:tensorflow:Shutting down OutfeedController thread.\n",
            "INFO:tensorflow:OutfeedController received shutdown signal, stopping.\n",
            "INFO:tensorflow:Outfeed thread finished, shutting down.\n",
            "INFO:tensorflow:outfeed marked as finished\n",
            "INFO:tensorflow:Shutdown TPU system.\n",
            "INFO:tensorflow:Finished evaluation at 2019-03-23-20:43:04\n",
            "INFO:tensorflow:Saving dict for global step 2200: accuracy = 0.7441406, global_step = 2200, loss = 0.5057915\n",
            "INFO:tensorflow:Saving 'checkpoint_path' summary for global step 2200: gs://gs_colab/dvc_jobs/job-2019-03-23-20:39:21/model.ckpt-2200\n",
            "INFO:tensorflow:evaluation_loop marked as finished\n"
          ],
          "name": "stdout"
        },
        {
          "output_type": "execute_result",
          "data": {
            "text/plain": [
              "{'accuracy': 0.7441406, 'global_step': 2200, 'loss': 0.5057915}"
            ]
          },
          "metadata": {
            "tags": []
          },
          "execution_count": 11
        }
      ]
    },
    {
      "metadata": {
        "id": "TQSg8PsSvKtU",
        "colab_type": "code",
        "colab": {}
      },
      "cell_type": "code",
      "source": [
        ""
      ],
      "execution_count": 0,
      "outputs": []
    }
  ]
}