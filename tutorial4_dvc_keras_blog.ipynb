{
  "nbformat": 4,
  "nbformat_minor": 0,
  "metadata": {
    "colab": {
      "name": "dvc-keras-blog.ipynb",
      "version": "0.3.2",
      "provenance": [],
      "collapsed_sections": []
    },
    "kernelspec": {
      "name": "python3",
      "display_name": "Python 3"
    },
    "accelerator": "TPU"
  },
  "cells": [
    {
      "metadata": {
        "id": "fMzCY7bC5cKm",
        "colab_type": "code",
        "colab": {}
      },
      "cell_type": "code",
      "source": [
        "import os, sys, json, glob\n",
        "import numpy as np\n",
        "import tensorflow as tf"
      ],
      "execution_count": 0,
      "outputs": []
    },
    {
      "metadata": {
        "id": "Eh8pa9kh5gwg",
        "colab_type": "code",
        "outputId": "ad44f1ac-4caf-4dd4-cb23-e596147ad872",
        "colab": {
          "base_uri": "https://localhost:8080/",
          "height": 68
        }
      },
      "cell_type": "code",
      "source": [
        "tf.keras.utils.get_file('dogscats.zip', \n",
        "                        origin='http://files.fast.ai/data/dogscats.zip',\n",
        "                        extract=True, cache_dir='.',\n",
        "                       )"
      ],
      "execution_count": 0,
      "outputs": [
        {
          "output_type": "stream",
          "text": [
            "Downloading data from http://files.fast.ai/data/dogscats.zip\n",
            "857219072/857214334 [==============================] - 9s 0us/step\n"
          ],
          "name": "stdout"
        },
        {
          "output_type": "execute_result",
          "data": {
            "text/plain": [
              "'./datasets/dogscats.zip'"
            ]
          },
          "metadata": {
            "tags": []
          },
          "execution_count": 5
        }
      ]
    },
    {
      "metadata": {
        "id": "m7orm56qP5Qa",
        "colab_type": "code",
        "colab": {}
      },
      "cell_type": "code",
      "source": [
        "from tensorflow.keras.preprocessing.image import ImageDataGenerator\n",
        "from tensorflow.keras.models import Sequential\n",
        "from tensorflow.keras.layers import Dropout, Flatten, Dense\n",
        "from tensorflow.keras import applications"
      ],
      "execution_count": 0,
      "outputs": []
    },
    {
      "metadata": {
        "id": "DXOndMRxQLHB",
        "colab_type": "code",
        "colab": {}
      },
      "cell_type": "code",
      "source": [
        "DATA_DIR = './datasets/dogscats/'"
      ],
      "execution_count": 0,
      "outputs": []
    },
    {
      "metadata": {
        "id": "YO3xdsd8FFJq",
        "colab_type": "code",
        "colab": {}
      },
      "cell_type": "code",
      "source": [
        "img_width, img_height = 150, 150\n",
        "\n",
        "top_model_weights_path = 'bottleneck_fc_model.h5'\n",
        "train_data_dir = DATA_DIR + 'train/'\n",
        "validation_data_dir = DATA_DIR + 'valid/'\n",
        "nb_train_samples = 23000\n",
        "nb_validation_samples = 2000\n",
        "epochs = 50\n",
        "batch_size = 16"
      ],
      "execution_count": 0,
      "outputs": []
    },
    {
      "metadata": {
        "id": "cVQGx2MrFxZD",
        "colab_type": "code",
        "outputId": "1bdcfc12-f60a-496d-ec0d-223368119e8a",
        "colab": {
          "base_uri": "https://localhost:8080/",
          "height": 122
        }
      },
      "cell_type": "code",
      "source": [
        "datagen = ImageDataGenerator(rescale=1. / 255)\n",
        "model = applications.VGG16(include_top=False, weights='imagenet', input_shape=(150, 150,3))"
      ],
      "execution_count": 0,
      "outputs": [
        {
          "output_type": "stream",
          "text": [
            "WARNING:tensorflow:From /usr/local/lib/python3.6/dist-packages/tensorflow/python/ops/resource_variable_ops.py:435: colocate_with (from tensorflow.python.framework.ops) is deprecated and will be removed in a future version.\n",
            "Instructions for updating:\n",
            "Colocations handled automatically by placer.\n",
            "Downloading data from https://github.com/fchollet/deep-learning-models/releases/download/v0.1/vgg16_weights_tf_dim_ordering_tf_kernels_notop.h5\n",
            "58892288/58889256 [==============================] - 1s 0us/step\n"
          ],
          "name": "stdout"
        }
      ]
    },
    {
      "metadata": {
        "id": "YP2FI67qHCMR",
        "colab_type": "code",
        "outputId": "b6d6533b-dde8-4afc-c8ae-a706971c62f6",
        "colab": {
          "base_uri": "https://localhost:8080/",
          "height": 445
        }
      },
      "cell_type": "code",
      "source": [
        "model = tf.contrib.tpu.keras_to_tpu_model(\n",
        "    model,\n",
        "    strategy=tf.contrib.tpu.TPUDistributionStrategy(\n",
        "        tf.contrib.cluster_resolver.TPUClusterResolver(tpu=f'grpc://{os.environ[\"COLAB_TPU_ADDR\"]}')\n",
        "    )\n",
        ")"
      ],
      "execution_count": 0,
      "outputs": [
        {
          "output_type": "stream",
          "text": [
            "\n",
            "WARNING: The TensorFlow contrib module will not be included in TensorFlow 2.0.\n",
            "For more information, please see:\n",
            "  * https://github.com/tensorflow/community/blob/master/rfcs/20180907-contrib-sunset.md\n",
            "  * https://github.com/tensorflow/addons\n",
            "If you depend on functionality not listed there, please file an issue.\n",
            "\n",
            "INFO:tensorflow:Querying Tensorflow master (grpc://10.110.236.42:8470) for TPU system metadata.\n",
            "INFO:tensorflow:Found TPU system:\n",
            "INFO:tensorflow:*** Num TPU Cores: 8\n",
            "INFO:tensorflow:*** Num TPU Workers: 1\n",
            "INFO:tensorflow:*** Num TPU Cores Per Worker: 8\n",
            "INFO:tensorflow:*** Available Device: _DeviceAttributes(/job:worker/replica:0/task:0/device:CPU:0, CPU, -1, 4818571885107906784)\n",
            "INFO:tensorflow:*** Available Device: _DeviceAttributes(/job:worker/replica:0/task:0/device:XLA_CPU:0, XLA_CPU, 17179869184, 97018047923590464)\n",
            "INFO:tensorflow:*** Available Device: _DeviceAttributes(/job:worker/replica:0/task:0/device:TPU:0, TPU, 17179869184, 12882992531240205894)\n",
            "INFO:tensorflow:*** Available Device: _DeviceAttributes(/job:worker/replica:0/task:0/device:TPU:1, TPU, 17179869184, 17575720991261860735)\n",
            "INFO:tensorflow:*** Available Device: _DeviceAttributes(/job:worker/replica:0/task:0/device:TPU:2, TPU, 17179869184, 3363819728435087947)\n",
            "INFO:tensorflow:*** Available Device: _DeviceAttributes(/job:worker/replica:0/task:0/device:TPU:3, TPU, 17179869184, 472968313763985637)\n",
            "INFO:tensorflow:*** Available Device: _DeviceAttributes(/job:worker/replica:0/task:0/device:TPU:4, TPU, 17179869184, 9274539433967058102)\n",
            "INFO:tensorflow:*** Available Device: _DeviceAttributes(/job:worker/replica:0/task:0/device:TPU:5, TPU, 17179869184, 4544139961126073180)\n",
            "INFO:tensorflow:*** Available Device: _DeviceAttributes(/job:worker/replica:0/task:0/device:TPU:6, TPU, 17179869184, 11262784240694779439)\n",
            "INFO:tensorflow:*** Available Device: _DeviceAttributes(/job:worker/replica:0/task:0/device:TPU:7, TPU, 17179869184, 10204009997868109053)\n",
            "INFO:tensorflow:*** Available Device: _DeviceAttributes(/job:worker/replica:0/task:0/device:TPU_SYSTEM:0, TPU_SYSTEM, 17179869184, 13139433394841459229)\n",
            "WARNING:tensorflow:tpu_model (from tensorflow.contrib.tpu.python.tpu.keras_support) is experimental and may change or be removed at any time, and without warning.\n"
          ],
          "name": "stdout"
        }
      ]
    },
    {
      "metadata": {
        "id": "e5eJI8db7_33",
        "colab_type": "code",
        "colab": {}
      },
      "cell_type": "code",
      "source": [
        "model.compile(tf.train.AdamOptimizer(), loss='categorical_crossentropy')\n",
        "model._distribution_strategy = None\n",
        "model._run_eagerly = False"
      ],
      "execution_count": 0,
      "outputs": []
    },
    {
      "metadata": {
        "id": "C5Yi9oP5F742",
        "colab_type": "code",
        "outputId": "73bc8162-10c0-4071-9f8b-bc3ea96baca4",
        "colab": {
          "base_uri": "https://localhost:8080/",
          "height": 34
        }
      },
      "cell_type": "code",
      "source": [
        "generator = datagen.flow_from_directory(\n",
        "    train_data_dir,\n",
        "    target_size=(img_width, img_height),\n",
        "    batch_size=batch_size,\n",
        "    class_mode=None,\n",
        "    shuffle=False)"
      ],
      "execution_count": 0,
      "outputs": [
        {
          "output_type": "stream",
          "text": [
            "Found 23000 images belonging to 2 classes.\n"
          ],
          "name": "stdout"
        }
      ]
    },
    {
      "metadata": {
        "id": "jJod788cGR13",
        "colab_type": "code",
        "outputId": "4083a478-1232-465b-dcc0-536d6dd1da9c",
        "colab": {
          "base_uri": "https://localhost:8080/",
          "height": 224
        }
      },
      "cell_type": "code",
      "source": [
        "bottleneck_features_train = model.predict_generator(generator, nb_train_samples // batch_size)"
      ],
      "execution_count": 0,
      "outputs": [
        {
          "output_type": "stream",
          "text": [
            "INFO:tensorflow:New input shapes; (re-)compiling: mode=infer (# of cores 8), [TensorSpec(shape=(2, 150, 150, 3), dtype=tf.float32, name='input_1_10')]\n",
            "INFO:tensorflow:Overriding default placeholder.\n",
            "INFO:tensorflow:Remapping placeholder for input_1\n",
            "INFO:tensorflow:Started compiling\n",
            "INFO:tensorflow:Finished compiling. Time elapsed: 8.940549373626709 secs\n",
            "INFO:tensorflow:Setting weights on TPU model.\n",
            "INFO:tensorflow:New input shapes; (re-)compiling: mode=infer (# of cores 8), [TensorSpec(shape=(1, 150, 150, 3), dtype=tf.float32, name='input_1_10')]\n",
            "INFO:tensorflow:Overriding default placeholder.\n",
            "INFO:tensorflow:Remapping placeholder for input_1\n",
            "INFO:tensorflow:Started compiling\n",
            "INFO:tensorflow:Finished compiling. Time elapsed: 9.197832107543945 secs\n"
          ],
          "name": "stdout"
        }
      ]
    },
    {
      "metadata": {
        "id": "PSPxmUHsUWuc",
        "colab_type": "code",
        "colab": {}
      },
      "cell_type": "code",
      "source": [
        "with open('bottleneck_features_train.npy', 'wb') as f:\n",
        "  np.save(f, bottleneck_features_train)"
      ],
      "execution_count": 0,
      "outputs": []
    },
    {
      "metadata": {
        "id": "uryVGuuUdR-v",
        "colab_type": "code",
        "outputId": "3dd18c7e-fb62-475c-dcfd-49a91bc8bfb4",
        "colab": {
          "base_uri": "https://localhost:8080/",
          "height": 34
        }
      },
      "cell_type": "code",
      "source": [
        "generator = datagen.flow_from_directory(\n",
        "    validation_data_dir,\n",
        "    target_size=(img_width, img_height),\n",
        "    batch_size=batch_size,\n",
        "    class_mode=None,\n",
        "    shuffle=False)\n",
        "bottleneck_features_validation = model.predict_generator(\n",
        "    generator, nb_validation_samples // batch_size)\n"
      ],
      "execution_count": 0,
      "outputs": [
        {
          "output_type": "stream",
          "text": [
            "Found 2000 images belonging to 2 classes.\n"
          ],
          "name": "stdout"
        }
      ]
    },
    {
      "metadata": {
        "id": "i-6sg2nV7vj9",
        "colab_type": "code",
        "colab": {}
      },
      "cell_type": "code",
      "source": [
        "with open('bottleneck_features_validation.npy', 'wb') as f:\n",
        "  np.save(f, bottleneck_features_validation)"
      ],
      "execution_count": 0,
      "outputs": []
    },
    {
      "metadata": {
        "id": "67wD98djVUCa",
        "colab_type": "code",
        "colab": {}
      },
      "cell_type": "code",
      "source": [
        "train_data = bottleneck_features_train\n",
        "train_labels = np.array(\n",
        "    [0] * (nb_train_samples // 2) + [1] * (nb_train_samples // 2))\n",
        "\n",
        "validation_data = bottleneck_features_validation\n",
        "validation_labels = np.array(\n",
        "    [0] * (nb_validation_samples // 2) + [1] * (nb_validation_samples // 2))"
      ],
      "execution_count": 0,
      "outputs": []
    },
    {
      "metadata": {
        "id": "aIaWny_HVvBq",
        "colab_type": "code",
        "colab": {}
      },
      "cell_type": "code",
      "source": [
        "model = Sequential()\n",
        "model.add(Flatten(input_shape=train_data.shape[1:]))\n",
        "model.add(Dense(256, activation='relu'))\n",
        "model.add(Dropout(0.5))\n",
        "model.add(Dense(1, activation='sigmoid'))\n",
        "\n",
        "model.compile(optimizer='rmsprop',\n",
        "              loss='binary_crossentropy', metrics=['accuracy'])"
      ],
      "execution_count": 0,
      "outputs": []
    },
    {
      "metadata": {
        "id": "hm5hIzI2WRzA",
        "colab_type": "code",
        "outputId": "0c489d4a-9553-46a4-eecd-7a12a86daf3d",
        "colab": {
          "base_uri": "https://localhost:8080/",
          "height": 360
        }
      },
      "cell_type": "code",
      "source": [
        "model = tf.contrib.tpu.keras_to_tpu_model(\n",
        "    model,\n",
        "    strategy=tf.contrib.tpu.TPUDistributionStrategy(\n",
        "        tf.contrib.cluster_resolver.TPUClusterResolver(tpu='grpc://'+os.environ['COLAB_TPU_ADDR'])\n",
        "    )\n",
        ")"
      ],
      "execution_count": 0,
      "outputs": [
        {
          "output_type": "stream",
          "text": [
            "INFO:tensorflow:Querying Tensorflow master (grpc://10.110.236.42:8470) for TPU system metadata.\n",
            "INFO:tensorflow:Found TPU system:\n",
            "INFO:tensorflow:*** Num TPU Cores: 8\n",
            "INFO:tensorflow:*** Num TPU Workers: 1\n",
            "INFO:tensorflow:*** Num TPU Cores Per Worker: 8\n",
            "INFO:tensorflow:*** Available Device: _DeviceAttributes(/job:worker/replica:0/task:0/device:CPU:0, CPU, -1, 4818571885107906784)\n",
            "INFO:tensorflow:*** Available Device: _DeviceAttributes(/job:worker/replica:0/task:0/device:XLA_CPU:0, XLA_CPU, 17179869184, 97018047923590464)\n",
            "INFO:tensorflow:*** Available Device: _DeviceAttributes(/job:worker/replica:0/task:0/device:TPU:0, TPU, 17179869184, 12882992531240205894)\n",
            "INFO:tensorflow:*** Available Device: _DeviceAttributes(/job:worker/replica:0/task:0/device:TPU:1, TPU, 17179869184, 17575720991261860735)\n",
            "INFO:tensorflow:*** Available Device: _DeviceAttributes(/job:worker/replica:0/task:0/device:TPU:2, TPU, 17179869184, 3363819728435087947)\n",
            "INFO:tensorflow:*** Available Device: _DeviceAttributes(/job:worker/replica:0/task:0/device:TPU:3, TPU, 17179869184, 472968313763985637)\n",
            "INFO:tensorflow:*** Available Device: _DeviceAttributes(/job:worker/replica:0/task:0/device:TPU:4, TPU, 17179869184, 9274539433967058102)\n",
            "INFO:tensorflow:*** Available Device: _DeviceAttributes(/job:worker/replica:0/task:0/device:TPU:5, TPU, 17179869184, 4544139961126073180)\n",
            "INFO:tensorflow:*** Available Device: _DeviceAttributes(/job:worker/replica:0/task:0/device:TPU:6, TPU, 17179869184, 11262784240694779439)\n",
            "INFO:tensorflow:*** Available Device: _DeviceAttributes(/job:worker/replica:0/task:0/device:TPU:7, TPU, 17179869184, 10204009997868109053)\n",
            "INFO:tensorflow:*** Available Device: _DeviceAttributes(/job:worker/replica:0/task:0/device:TPU_SYSTEM:0, TPU_SYSTEM, 17179869184, 13139433394841459229)\n",
            "WARNING:tensorflow:tpu_model (from tensorflow.contrib.tpu.python.tpu.keras_support) is experimental and may change or be removed at any time, and without warning.\n",
            "INFO:tensorflow:Cloning RMSprop {'lr': 0.0010000000474974513, 'rho': 0.8999999761581421, 'decay': 0.0, 'epsilon': 1e-07}\n",
            "INFO:tensorflow:Cloning RMSprop {'lr': 0.0010000000474974513, 'rho': 0.8999999761581421, 'decay': 0.0, 'epsilon': 1e-07}\n"
          ],
          "name": "stdout"
        }
      ]
    },
    {
      "metadata": {
        "id": "d-7jTZl3WNEz",
        "colab_type": "code",
        "outputId": "5e64fa98-040d-44f8-d60c-aa6f148af577",
        "colab": {
          "base_uri": "https://localhost:8080/",
          "height": 2434
        }
      },
      "cell_type": "code",
      "source": [
        "model.fit(train_data, train_labels,\n",
        "          epochs=epochs,\n",
        "          batch_size=batch_size,\n",
        "          validation_data=(validation_data, validation_labels))\n",
        "model.save_weights(top_model_weights_path)\n"
      ],
      "execution_count": 0,
      "outputs": [
        {
          "output_type": "stream",
          "text": [
            "Train on 23000 samples, validate on 2000 samples\n",
            "Epoch 1/50\n",
            "INFO:tensorflow:New input shapes; (re-)compiling: mode=train (# of cores 8), [TensorSpec(shape=(2,), dtype=tf.int32, name='core_id_10'), TensorSpec(shape=(2, 4, 4, 512), dtype=tf.float32, name='flatten_input_10'), TensorSpec(shape=(2, 1), dtype=tf.float32, name='dense_1_target_30')]\n",
            "INFO:tensorflow:Overriding default placeholder.\n",
            "INFO:tensorflow:Cloning RMSprop {'lr': 0.0010000000474974513, 'rho': 0.8999999761581421, 'decay': 0.0, 'epsilon': 1e-07}\n",
            "INFO:tensorflow:Remapping placeholder for flatten_input\n",
            "WARNING:tensorflow:From /usr/local/lib/python3.6/dist-packages/tensorflow/python/keras/layers/core.py:143: calling dropout (from tensorflow.python.ops.nn_ops) with keep_prob is deprecated and will be removed in a future version.\n",
            "Instructions for updating:\n",
            "Please use `rate` instead of `keep_prob`. Rate should be set to `rate = 1 - keep_prob`.\n",
            "WARNING:tensorflow:From /usr/local/lib/python3.6/dist-packages/tensorflow/contrib/tpu/python/tpu/keras_support.py:302: to_float (from tensorflow.python.ops.math_ops) is deprecated and will be removed in a future version.\n",
            "Instructions for updating:\n",
            "Use tf.cast instead.\n",
            "INFO:tensorflow:KerasCrossShard: <tensorflow.python.keras.optimizers.RMSprop object at 0x7f4b20a59b70> []\n",
            "WARNING:tensorflow:From /usr/local/lib/python3.6/dist-packages/tensorflow/python/ops/math_ops.py:3066: to_int32 (from tensorflow.python.ops.math_ops) is deprecated and will be removed in a future version.\n",
            "Instructions for updating:\n",
            "Use tf.cast instead.\n",
            "INFO:tensorflow:Started compiling\n",
            "INFO:tensorflow:Finished compiling. Time elapsed: 2.2060117721557617 secs\n",
            "INFO:tensorflow:Setting weights on TPU model.\n",
            "INFO:tensorflow:CPU -> TPU lr: 0.0010000000474974513 {0.001}\n",
            "INFO:tensorflow:CPU -> TPU rho: 0.8999999761581421 {0.9}\n",
            "INFO:tensorflow:CPU -> TPU decay: 0.0 {0.0}\n",
            "WARNING:tensorflow:Cannot update non-variable config: epsilon\n",
            "22944/23000 [============================>.] - ETA: 0s - loss: 0.6907 - acc: 0.5263INFO:tensorflow:New input shapes; (re-)compiling: mode=train (# of cores 8), [TensorSpec(shape=(1,), dtype=tf.int32, name='core_id_10'), TensorSpec(shape=(1, 4, 4, 512), dtype=tf.float32, name='flatten_input_10'), TensorSpec(shape=(1, 1), dtype=tf.float32, name='dense_1_target_30')]\n",
            "INFO:tensorflow:Overriding default placeholder.\n",
            "INFO:tensorflow:Remapping placeholder for flatten_input\n",
            "INFO:tensorflow:KerasCrossShard: <tensorflow.python.keras.optimizers.RMSprop object at 0x7f4b20a59b70> [<tensorflow.contrib.tpu.python.tpu.keras_tpu_variables.ReplicatedVariable object at 0x7f4b204e0438>, <tensorflow.contrib.tpu.python.tpu.keras_tpu_variables.ReplicatedVariable object at 0x7f4b204e0a20>, <tensorflow.contrib.tpu.python.tpu.keras_tpu_variables.ReplicatedVariable object at 0x7f4b204e0d68>, <tensorflow.contrib.tpu.python.tpu.keras_tpu_variables.ReplicatedVariable object at 0x7f4b2049fc88>]\n",
            "INFO:tensorflow:Started compiling\n",
            "INFO:tensorflow:Finished compiling. Time elapsed: 2.3058624267578125 secs\n",
            "22992/23000 [============================>.] - ETA: 0s - loss: 0.6907 - acc: 0.5264INFO:tensorflow:New input shapes; (re-)compiling: mode=eval (# of cores 8), [TensorSpec(shape=(2,), dtype=tf.int32, name='core_id_20'), TensorSpec(shape=(2, 4, 4, 512), dtype=tf.float32, name='flatten_input_10'), TensorSpec(shape=(2, 1), dtype=tf.float32, name='dense_1_target_30')]\n",
            "INFO:tensorflow:Overriding default placeholder.\n",
            "INFO:tensorflow:Cloning RMSprop {'lr': 0.0010000000474974513, 'rho': 0.8999999761581421, 'decay': 0.0, 'epsilon': 1e-07}\n",
            "INFO:tensorflow:Remapping placeholder for flatten_input\n",
            "INFO:tensorflow:KerasCrossShard: <tensorflow.python.keras.optimizers.RMSprop object at 0x7f4b1fb72240> []\n",
            "INFO:tensorflow:Started compiling\n",
            "INFO:tensorflow:Finished compiling. Time elapsed: 1.5738551616668701 secs\n",
            "23000/23000 [==============================] - 34s 1ms/sample - loss: 0.6907 - acc: 0.5264 - val_loss: 0.6841 - val_acc: 0.5900\n",
            "Epoch 2/50\n",
            "23000/23000 [==============================] - 19s 827us/sample - loss: 0.6813 - acc: 0.5661 - val_loss: 0.6706 - val_acc: 0.5955\n",
            "Epoch 3/50\n",
            "23000/23000 [==============================] - 19s 809us/sample - loss: 0.6688 - acc: 0.5987 - val_loss: 0.6657 - val_acc: 0.5930\n",
            "Epoch 4/50\n",
            "23000/23000 [==============================] - 19s 820us/sample - loss: 0.6557 - acc: 0.6221 - val_loss: 0.6429 - val_acc: 0.6480\n",
            "Epoch 5/50\n",
            "23000/23000 [==============================] - 19s 847us/sample - loss: 0.6432 - acc: 0.6373 - val_loss: 0.6428 - val_acc: 0.6310\n",
            "Epoch 6/50\n",
            "23000/23000 [==============================] - 19s 808us/sample - loss: 0.6343 - acc: 0.6455 - val_loss: 0.6256 - val_acc: 0.6675\n",
            "Epoch 7/50\n",
            "23000/23000 [==============================] - 19s 810us/sample - loss: 0.6277 - acc: 0.6517 - val_loss: 0.6212 - val_acc: 0.6680\n",
            "Epoch 8/50\n",
            "23000/23000 [==============================] - 19s 830us/sample - loss: 0.6242 - acc: 0.6569 - val_loss: 0.6181 - val_acc: 0.6680\n",
            "Epoch 9/50\n",
            "23000/23000 [==============================] - 19s 847us/sample - loss: 0.6209 - acc: 0.6610 - val_loss: 0.6492 - val_acc: 0.6215\n",
            "Epoch 10/50\n",
            "23000/23000 [==============================] - 20s 855us/sample - loss: 0.6164 - acc: 0.6628 - val_loss: 0.6131 - val_acc: 0.6715\n",
            "Epoch 11/50\n",
            "23000/23000 [==============================] - 18s 804us/sample - loss: 0.6149 - acc: 0.6649 - val_loss: 0.6136 - val_acc: 0.6660\n",
            "Epoch 12/50\n",
            "23000/23000 [==============================] - 19s 830us/sample - loss: 0.6122 - acc: 0.6671 - val_loss: 0.6411 - val_acc: 0.6305\n",
            "Epoch 13/50\n",
            "23000/23000 [==============================] - 19s 836us/sample - loss: 0.6096 - acc: 0.6709 - val_loss: 0.6059 - val_acc: 0.6715\n",
            "Epoch 14/50\n",
            "23000/23000 [==============================] - 19s 827us/sample - loss: 0.6073 - acc: 0.6713 - val_loss: 0.6114 - val_acc: 0.6665\n",
            "Epoch 15/50\n",
            "23000/23000 [==============================] - 18s 791us/sample - loss: 0.6051 - acc: 0.6748 - val_loss: 0.6112 - val_acc: 0.6730\n",
            "Epoch 16/50\n",
            "23000/23000 [==============================] - 19s 830us/sample - loss: 0.6058 - acc: 0.6774 - val_loss: 0.6046 - val_acc: 0.6690\n",
            "Epoch 17/50\n",
            "23000/23000 [==============================] - 19s 831us/sample - loss: 0.6016 - acc: 0.6797 - val_loss: 0.6003 - val_acc: 0.6805\n",
            "Epoch 18/50\n",
            "23000/23000 [==============================] - 19s 825us/sample - loss: 0.6003 - acc: 0.6790 - val_loss: 0.5963 - val_acc: 0.6810\n",
            "Epoch 19/50\n",
            "23000/23000 [==============================] - 18s 791us/sample - loss: 0.5963 - acc: 0.6853 - val_loss: 0.5949 - val_acc: 0.6790\n",
            "Epoch 20/50\n",
            "23000/23000 [==============================] - 19s 839us/sample - loss: 0.5960 - acc: 0.6834 - val_loss: 0.5947 - val_acc: 0.6775\n",
            "Epoch 21/50\n",
            "23000/23000 [==============================] - 19s 814us/sample - loss: 0.5944 - acc: 0.6860 - val_loss: 0.6103 - val_acc: 0.6590\n",
            "Epoch 22/50\n",
            "23000/23000 [==============================] - 19s 834us/sample - loss: 0.5945 - acc: 0.6863 - val_loss: 0.6200 - val_acc: 0.6545\n",
            "Epoch 23/50\n",
            "23000/23000 [==============================] - 19s 827us/sample - loss: 0.5916 - acc: 0.6890 - val_loss: 0.5944 - val_acc: 0.6775\n",
            "Epoch 24/50\n",
            "23000/23000 [==============================] - 19s 818us/sample - loss: 0.5888 - acc: 0.6917 - val_loss: 0.5922 - val_acc: 0.6815\n",
            "Epoch 25/50\n",
            "23000/23000 [==============================] - 20s 852us/sample - loss: 0.5897 - acc: 0.6920 - val_loss: 0.5979 - val_acc: 0.6780\n",
            "Epoch 26/50\n",
            "23000/23000 [==============================] - 20s 870us/sample - loss: 0.5857 - acc: 0.6923 - val_loss: 0.5911 - val_acc: 0.6760\n",
            "Epoch 27/50\n",
            "23000/23000 [==============================] - 20s 854us/sample - loss: 0.5840 - acc: 0.6950 - val_loss: 0.6001 - val_acc: 0.6795\n",
            "Epoch 28/50\n",
            "23000/23000 [==============================] - 19s 810us/sample - loss: 0.5829 - acc: 0.6995 - val_loss: 0.6027 - val_acc: 0.6600\n",
            "Epoch 29/50\n",
            "23000/23000 [==============================] - 19s 818us/sample - loss: 0.5826 - acc: 0.6973 - val_loss: 0.5978 - val_acc: 0.6840\n",
            "Epoch 30/50\n",
            "23000/23000 [==============================] - 19s 832us/sample - loss: 0.5817 - acc: 0.6986 - val_loss: 0.5846 - val_acc: 0.6915\n",
            "Epoch 31/50\n",
            "23000/23000 [==============================] - 20s 859us/sample - loss: 0.5791 - acc: 0.6998 - val_loss: 0.5851 - val_acc: 0.6855\n",
            "Epoch 32/50\n",
            "23000/23000 [==============================] - 19s 821us/sample - loss: 0.5758 - acc: 0.7025 - val_loss: 0.5788 - val_acc: 0.6965\n",
            "Epoch 33/50\n",
            "23000/23000 [==============================] - 19s 842us/sample - loss: 0.5748 - acc: 0.7021 - val_loss: 0.5909 - val_acc: 0.6840\n",
            "Epoch 34/50\n",
            "23000/23000 [==============================] - 20s 855us/sample - loss: 0.5746 - acc: 0.7025 - val_loss: 0.5848 - val_acc: 0.6905\n",
            "Epoch 35/50\n",
            "23000/23000 [==============================] - 20s 849us/sample - loss: 0.5722 - acc: 0.7053 - val_loss: 0.5812 - val_acc: 0.6885\n",
            "Epoch 36/50\n",
            "23000/23000 [==============================] - 19s 822us/sample - loss: 0.5730 - acc: 0.7063 - val_loss: 0.5797 - val_acc: 0.6950\n",
            "Epoch 37/50\n",
            "23000/23000 [==============================] - 19s 828us/sample - loss: 0.5719 - acc: 0.7053 - val_loss: 0.5760 - val_acc: 0.6930\n",
            "Epoch 38/50\n",
            "23000/23000 [==============================] - 19s 834us/sample - loss: 0.5670 - acc: 0.7067 - val_loss: 0.5756 - val_acc: 0.6960\n",
            "Epoch 39/50\n",
            "23000/23000 [==============================] - 20s 848us/sample - loss: 0.5680 - acc: 0.7111 - val_loss: 0.5823 - val_acc: 0.6975\n",
            "Epoch 40/50\n",
            "23000/23000 [==============================] - 19s 824us/sample - loss: 0.5671 - acc: 0.7110 - val_loss: 0.5698 - val_acc: 0.6990\n",
            "Epoch 41/50\n",
            "23000/23000 [==============================] - 19s 843us/sample - loss: 0.5665 - acc: 0.7111 - val_loss: 0.5921 - val_acc: 0.6850\n",
            "Epoch 42/50\n",
            "23000/23000 [==============================] - 21s 900us/sample - loss: 0.5639 - acc: 0.7154 - val_loss: 0.5804 - val_acc: 0.6830\n",
            "Epoch 43/50\n",
            "23000/23000 [==============================] - 19s 830us/sample - loss: 0.5642 - acc: 0.7112 - val_loss: 0.5727 - val_acc: 0.7000\n",
            "Epoch 44/50\n",
            "23000/23000 [==============================] - 19s 806us/sample - loss: 0.5612 - acc: 0.7157 - val_loss: 0.5800 - val_acc: 0.6905\n",
            "Epoch 45/50\n",
            "23000/23000 [==============================] - 19s 827us/sample - loss: 0.5617 - acc: 0.7153 - val_loss: 0.5684 - val_acc: 0.7010\n",
            "Epoch 46/50\n",
            "23000/23000 [==============================] - 19s 840us/sample - loss: 0.5615 - acc: 0.7146 - val_loss: 0.5677 - val_acc: 0.7075\n",
            "Epoch 47/50\n",
            "23000/23000 [==============================] - 19s 830us/sample - loss: 0.5587 - acc: 0.7168 - val_loss: 0.5677 - val_acc: 0.7070\n",
            "Epoch 48/50\n",
            "23000/23000 [==============================] - 19s 825us/sample - loss: 0.5545 - acc: 0.7210 - val_loss: 0.5658 - val_acc: 0.7080\n",
            "Epoch 49/50\n",
            "23000/23000 [==============================] - 19s 822us/sample - loss: 0.5557 - acc: 0.7184 - val_loss: 0.5949 - val_acc: 0.6885\n",
            "Epoch 50/50\n",
            "23000/23000 [==============================] - 19s 835us/sample - loss: 0.5574 - acc: 0.7173 - val_loss: 0.5685 - val_acc: 0.7035\n",
            "INFO:tensorflow:Copying TPU weights to the CPU\n",
            "INFO:tensorflow:TPU -> CPU lr: 0.0010000000474974513\n",
            "INFO:tensorflow:TPU -> CPU rho: 0.8999999761581421\n",
            "INFO:tensorflow:TPU -> CPU decay: 0.0\n",
            "INFO:tensorflow:TPU -> CPU epsilon: 1e-07\n",
            "WARNING:tensorflow:Cannot update non-variable config: epsilon\n"
          ],
          "name": "stdout"
        }
      ]
    },
    {
      "metadata": {
        "id": "pzgDX4k5WX4e",
        "colab_type": "code",
        "colab": {}
      },
      "cell_type": "code",
      "source": [
        ""
      ],
      "execution_count": 0,
      "outputs": []
    }
  ]
}