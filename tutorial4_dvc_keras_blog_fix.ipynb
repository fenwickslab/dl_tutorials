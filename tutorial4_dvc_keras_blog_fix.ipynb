{
  "nbformat": 4,
  "nbformat_minor": 0,
  "metadata": {
    "colab": {
      "name": "dvc-keras-blog-fix.ipynb",
      "version": "0.3.2",
      "provenance": [],
      "collapsed_sections": []
    },
    "kernelspec": {
      "name": "python3",
      "display_name": "Python 3"
    },
    "accelerator": "TPU"
  },
  "cells": [
    {
      "metadata": {
        "id": "fMzCY7bC5cKm",
        "colab_type": "code",
        "colab": {}
      },
      "cell_type": "code",
      "source": [
        "import os, sys, json, glob\n",
        "import numpy as np\n",
        "import tensorflow as tf\n",
        "\n",
        "from tensorflow.keras.preprocessing.image import ImageDataGenerator\n",
        "from tensorflow.keras.models import Sequential\n",
        "from tensorflow.keras.layers import Dropout, Flatten, Dense\n",
        "from tensorflow.keras import applications"
      ],
      "execution_count": 0,
      "outputs": []
    },
    {
      "metadata": {
        "id": "X3WYEWN5fv3n",
        "colab_type": "code",
        "colab": {}
      },
      "cell_type": "code",
      "source": [
        "DVC_URL = 'http://files.fast.ai/data/dogscats.zip'\n",
        "TPU_ADDR = f'grpc://{os.environ[\"COLAB_TPU_ADDR\"]}'\n",
        "IMG_SIZE = 150"
      ],
      "execution_count": 0,
      "outputs": []
    },
    {
      "metadata": {
        "id": "kQhTX6a3fWgj",
        "colab_type": "code",
        "colab": {}
      },
      "cell_type": "code",
      "source": [
        "def download_data(url:str, cache_dir:str='.'):\n",
        "  fn = url.split('/')[-1]\n",
        "  tf.keras.utils.get_file(fn, origin=url, extract=True, cache_dir=cache_dir)"
      ],
      "execution_count": 0,
      "outputs": []
    },
    {
      "metadata": {
        "id": "Eh8pa9kh5gwg",
        "colab_type": "code",
        "colab": {}
      },
      "cell_type": "code",
      "source": [
        "download_data(DVC_URL)"
      ],
      "execution_count": 0,
      "outputs": []
    },
    {
      "metadata": {
        "id": "DXOndMRxQLHB",
        "colab_type": "code",
        "colab": {}
      },
      "cell_type": "code",
      "source": [
        "DATA_DIR = './datasets/dogscats/'"
      ],
      "execution_count": 0,
      "outputs": []
    },
    {
      "metadata": {
        "id": "YO3xdsd8FFJq",
        "colab_type": "code",
        "colab": {}
      },
      "cell_type": "code",
      "source": [
        "top_model_weights_path = 'bottleneck_fc_model.h5'\n",
        "train_data_dir = DATA_DIR + 'train/'\n",
        "validation_data_dir = DATA_DIR + 'valid/'\n",
        "nb_train_samples = 23000\n",
        "nb_validation_samples = 2000\n",
        "epochs = 50\n",
        "batch_size = 128"
      ],
      "execution_count": 0,
      "outputs": []
    },
    {
      "metadata": {
        "id": "mN8C_RWUiHGr",
        "colab_type": "code",
        "colab": {}
      },
      "cell_type": "code",
      "source": [
        "train_datagen = ImageDataGenerator(rescale=1.0/255)\n",
        "valid_datagen = ImageDataGenerator(rescale=1.0/255)"
      ],
      "execution_count": 0,
      "outputs": []
    },
    {
      "metadata": {
        "id": "Q63VieRsj-Zm",
        "colab_type": "code",
        "colab": {
          "base_uri": "https://localhost:8080/",
          "height": 139
        },
        "outputId": "e3dc9025-9e52-4053-a5b5-dacae1d1529d"
      },
      "cell_type": "code",
      "source": [
        "vgg16 = applications.VGG16(include_top=False,\n",
        "   input_shape=(IMG_SIZE, IMG_SIZE,3))\n",
        "\n",
        "for l in vgg16.layers:\n",
        "  l.trainable = False\n",
        "\n",
        "h = vgg16.output\n",
        "h = Flatten()(h)\n",
        "h = Dense(256, activation='relu')(h)\n",
        "h = Dropout(0.5)(h)\n",
        "h = Dense(1, activation='sigmoid')(h)\n",
        "\n",
        "model = tf.keras.models.Model(vgg16.input, h)\n",
        "model.compile(optimizer=tf.train.AdamOptimizer(), loss='binary_crossentropy', \n",
        "  metrics=['accuracy'])"
      ],
      "execution_count": 8,
      "outputs": [
        {
          "output_type": "stream",
          "text": [
            "WARNING:tensorflow:From /usr/local/lib/python3.6/dist-packages/tensorflow/python/ops/resource_variable_ops.py:435: colocate_with (from tensorflow.python.framework.ops) is deprecated and will be removed in a future version.\n",
            "Instructions for updating:\n",
            "Colocations handled automatically by placer.\n",
            "WARNING:tensorflow:From /usr/local/lib/python3.6/dist-packages/tensorflow/python/keras/layers/core.py:143: calling dropout (from tensorflow.python.ops.nn_ops) with keep_prob is deprecated and will be removed in a future version.\n",
            "Instructions for updating:\n",
            "Please use `rate` instead of `keep_prob`. Rate should be set to `rate = 1 - keep_prob`.\n"
          ],
          "name": "stdout"
        }
      ]
    },
    {
      "metadata": {
        "id": "YP2FI67qHCMR",
        "colab_type": "code",
        "outputId": "c26f4f8b-4613-4191-c29f-58baf12c39b6",
        "colab": {
          "base_uri": "https://localhost:8080/",
          "height": 445
        }
      },
      "cell_type": "code",
      "source": [
        "model = tf.contrib.tpu.keras_to_tpu_model(\n",
        "    model,\n",
        "    strategy=tf.contrib.tpu.TPUDistributionStrategy(\n",
        "        tf.contrib.cluster_resolver.TPUClusterResolver(tpu=TPU_ADDR)\n",
        "    )\n",
        ")"
      ],
      "execution_count": 9,
      "outputs": [
        {
          "output_type": "stream",
          "text": [
            "\n",
            "WARNING: The TensorFlow contrib module will not be included in TensorFlow 2.0.\n",
            "For more information, please see:\n",
            "  * https://github.com/tensorflow/community/blob/master/rfcs/20180907-contrib-sunset.md\n",
            "  * https://github.com/tensorflow/addons\n",
            "If you depend on functionality not listed there, please file an issue.\n",
            "\n",
            "INFO:tensorflow:Querying Tensorflow master (grpc://10.92.239.202:8470) for TPU system metadata.\n",
            "INFO:tensorflow:Found TPU system:\n",
            "INFO:tensorflow:*** Num TPU Cores: 8\n",
            "INFO:tensorflow:*** Num TPU Workers: 1\n",
            "INFO:tensorflow:*** Num TPU Cores Per Worker: 8\n",
            "INFO:tensorflow:*** Available Device: _DeviceAttributes(/job:worker/replica:0/task:0/device:CPU:0, CPU, -1, 15713806325633069451)\n",
            "INFO:tensorflow:*** Available Device: _DeviceAttributes(/job:worker/replica:0/task:0/device:XLA_CPU:0, XLA_CPU, 17179869184, 1638909662840706597)\n",
            "INFO:tensorflow:*** Available Device: _DeviceAttributes(/job:worker/replica:0/task:0/device:TPU:0, TPU, 17179869184, 10293082847027371014)\n",
            "INFO:tensorflow:*** Available Device: _DeviceAttributes(/job:worker/replica:0/task:0/device:TPU:1, TPU, 17179869184, 14096089019572414384)\n",
            "INFO:tensorflow:*** Available Device: _DeviceAttributes(/job:worker/replica:0/task:0/device:TPU:2, TPU, 17179869184, 5670756435792898859)\n",
            "INFO:tensorflow:*** Available Device: _DeviceAttributes(/job:worker/replica:0/task:0/device:TPU:3, TPU, 17179869184, 1400726121276453713)\n",
            "INFO:tensorflow:*** Available Device: _DeviceAttributes(/job:worker/replica:0/task:0/device:TPU:4, TPU, 17179869184, 17815958701844384361)\n",
            "INFO:tensorflow:*** Available Device: _DeviceAttributes(/job:worker/replica:0/task:0/device:TPU:5, TPU, 17179869184, 851145927301542265)\n",
            "INFO:tensorflow:*** Available Device: _DeviceAttributes(/job:worker/replica:0/task:0/device:TPU:6, TPU, 17179869184, 9299390976214495919)\n",
            "INFO:tensorflow:*** Available Device: _DeviceAttributes(/job:worker/replica:0/task:0/device:TPU:7, TPU, 17179869184, 5181324547683940224)\n",
            "INFO:tensorflow:*** Available Device: _DeviceAttributes(/job:worker/replica:0/task:0/device:TPU_SYSTEM:0, TPU_SYSTEM, 17179869184, 13910708941184231320)\n",
            "WARNING:tensorflow:tpu_model (from tensorflow.contrib.tpu.python.tpu.keras_support) is experimental and may change or be removed at any time, and without warning.\n"
          ],
          "name": "stdout"
        }
      ]
    },
    {
      "metadata": {
        "id": "C5Yi9oP5F742",
        "colab_type": "code",
        "outputId": "47531bc4-d1ae-450d-c56d-db49cf30b74b",
        "colab": {
          "base_uri": "https://localhost:8080/",
          "height": 51
        }
      },
      "cell_type": "code",
      "source": [
        "train_generator = train_datagen.flow_from_directory(\n",
        "  train_data_dir,\n",
        "  target_size=(IMG_SIZE, IMG_SIZE),\n",
        "  batch_size=batch_size,\n",
        "  class_mode='binary')\n",
        "\n",
        "validation_generator = valid_datagen.flow_from_directory(\n",
        "  validation_data_dir,\n",
        "  target_size=(IMG_SIZE, IMG_SIZE),\n",
        "  batch_size=batch_size,\n",
        "  class_mode='binary')"
      ],
      "execution_count": 10,
      "outputs": [
        {
          "output_type": "stream",
          "text": [
            "Found 23000 images belonging to 2 classes.\n",
            "Found 2000 images belonging to 2 classes.\n"
          ],
          "name": "stdout"
        }
      ]
    },
    {
      "metadata": {
        "id": "d-7jTZl3WNEz",
        "colab_type": "code",
        "outputId": "4655459c-8535-414e-d3cf-0a3578d63ebb",
        "colab": {
          "base_uri": "https://localhost:8080/",
          "height": 3063
        }
      },
      "cell_type": "code",
      "source": [
        "model.fit_generator(\n",
        "  train_generator,\n",
        "  steps_per_epoch=nb_train_samples // batch_size,\n",
        "  epochs=50,\n",
        "  validation_data=validation_generator,\n",
        "  validation_steps=nb_validation_samples // batch_size)\n",
        "\n",
        "# model.save_weights(top_model_weights_path)"
      ],
      "execution_count": 11,
      "outputs": [
        {
          "output_type": "stream",
          "text": [
            "Epoch 1/50\n",
            "INFO:tensorflow:New input shapes; (re-)compiling: mode=train (# of cores 8), [TensorSpec(shape=(16,), dtype=tf.int32, name='core_id0'), TensorSpec(shape=(16, 150, 150, 3), dtype=tf.float32, name='input_1_10'), TensorSpec(shape=(16, 1), dtype=tf.float32, name='dense_1_target_30')]\n",
            "INFO:tensorflow:Overriding default placeholder.\n",
            "INFO:tensorflow:Remapping placeholder for input_1\n",
            "WARNING:tensorflow:From /usr/local/lib/python3.6/dist-packages/tensorflow/contrib/tpu/python/tpu/keras_support.py:302: to_float (from tensorflow.python.ops.math_ops) is deprecated and will be removed in a future version.\n",
            "Instructions for updating:\n",
            "Use tf.cast instead.\n",
            "WARNING:tensorflow:From /usr/local/lib/python3.6/dist-packages/tensorflow/python/ops/math_ops.py:3066: to_int32 (from tensorflow.python.ops.math_ops) is deprecated and will be removed in a future version.\n",
            "Instructions for updating:\n",
            "Use tf.cast instead.\n",
            "INFO:tensorflow:Started compiling\n",
            "INFO:tensorflow:Finished compiling. Time elapsed: 17.814032077789307 secs\n",
            "INFO:tensorflow:Setting weights on TPU model.\n",
            "106/180 [================>.............] - ETA: 49s - loss: 0.3464 - acc: 0.8550INFO:tensorflow:New input shapes; (re-)compiling: mode=train (# of cores 8), [TensorSpec(shape=(11,), dtype=tf.int32, name='core_id0'), TensorSpec(shape=(11, 150, 150, 3), dtype=tf.float32, name='input_1_10'), TensorSpec(shape=(11, 1), dtype=tf.float32, name='dense_1_target_30')]\n",
            "INFO:tensorflow:Overriding default placeholder.\n",
            "INFO:tensorflow:Remapping placeholder for input_1\n",
            "INFO:tensorflow:Started compiling\n",
            "INFO:tensorflow:Finished compiling. Time elapsed: 11.903159379959106 secs\n",
            "179/180 [============================>.] - ETA: 0s - loss: 0.3084 - acc: 0.8706INFO:tensorflow:New input shapes; (re-)compiling: mode=eval (# of cores 8), [TensorSpec(shape=(16,), dtype=tf.int32, name='core_id_10'), TensorSpec(shape=(16, 150, 150, 3), dtype=tf.float32, name='input_1_10'), TensorSpec(shape=(16, 1), dtype=tf.float32, name='dense_1_target_30')]\n",
            "INFO:tensorflow:Overriding default placeholder.\n",
            "INFO:tensorflow:Remapping placeholder for input_1\n",
            "INFO:tensorflow:Started compiling\n",
            "INFO:tensorflow:Finished compiling. Time elapsed: 15.312465190887451 secs\n",
            "15/16 [===========================>..] - ETA: 1s - loss: 0.2347 - acc: 0.8943INFO:tensorflow:New input shapes; (re-)compiling: mode=eval (# of cores 8), [TensorSpec(shape=(10,), dtype=tf.int32, name='core_id_10'), TensorSpec(shape=(10, 150, 150, 3), dtype=tf.float32, name='input_1_10'), TensorSpec(shape=(10, 1), dtype=tf.float32, name='dense_1_target_30')]\n",
            "INFO:tensorflow:Overriding default placeholder.\n",
            "INFO:tensorflow:Remapping placeholder for input_1\n",
            "INFO:tensorflow:Started compiling\n",
            "INFO:tensorflow:Finished compiling. Time elapsed: 17.522228956222534 secs\n",
            "16/16 [==============================] - 39s 2s/step - loss: 0.2295 - acc: 0.8955\n",
            "180/180 [==============================] - 155s 863ms/step - loss: 0.3083 - acc: 0.8704 - val_loss: 0.2295 - val_acc: 0.8955\n",
            "Epoch 2/50\n",
            "16/16 [==============================] - 10s 626ms/step - loss: 0.2082 - acc: 0.9085\n",
            "180/180 [==============================] - 92s 513ms/step - loss: 0.2188 - acc: 0.9100 - val_loss: 0.2082 - val_acc: 0.9085\n",
            "Epoch 3/50\n",
            "16/16 [==============================] - 10s 631ms/step - loss: 0.2103 - acc: 0.9145\n",
            "180/180 [==============================] - 93s 515ms/step - loss: 0.2049 - acc: 0.9117 - val_loss: 0.2103 - val_acc: 0.9145\n",
            "Epoch 4/50\n",
            "16/16 [==============================] - 10s 641ms/step - loss: 0.1954 - acc: 0.9165\n",
            "180/180 [==============================] - 94s 523ms/step - loss: 0.1844 - acc: 0.9232 - val_loss: 0.1954 - val_acc: 0.9165\n",
            "Epoch 5/50\n",
            "16/16 [==============================] - 10s 639ms/step - loss: 0.2121 - acc: 0.9105\n",
            "180/180 [==============================] - 95s 527ms/step - loss: 0.1728 - acc: 0.9297 - val_loss: 0.2121 - val_acc: 0.9105\n",
            "Epoch 6/50\n",
            "16/16 [==============================] - 10s 637ms/step - loss: 0.2009 - acc: 0.9205\n",
            "180/180 [==============================] - 95s 528ms/step - loss: 0.1630 - acc: 0.9340 - val_loss: 0.2009 - val_acc: 0.9205\n",
            "Epoch 7/50\n",
            "16/16 [==============================] - 10s 633ms/step - loss: 0.1945 - acc: 0.9145\n",
            "180/180 [==============================] - 95s 527ms/step - loss: 0.1571 - acc: 0.9358 - val_loss: 0.1945 - val_acc: 0.9145\n",
            "Epoch 8/50\n",
            "16/16 [==============================] - 10s 628ms/step - loss: 0.1949 - acc: 0.9180\n",
            "180/180 [==============================] - 94s 522ms/step - loss: 0.1436 - acc: 0.9401 - val_loss: 0.1949 - val_acc: 0.9180\n",
            "Epoch 9/50\n",
            "16/16 [==============================] - 10s 633ms/step - loss: 0.2010 - acc: 0.9220\n",
            "180/180 [==============================] - 94s 524ms/step - loss: 0.1339 - acc: 0.9453 - val_loss: 0.2010 - val_acc: 0.9220\n",
            "Epoch 10/50\n",
            "16/16 [==============================] - 10s 628ms/step - loss: 0.1969 - acc: 0.9160\n",
            "180/180 [==============================] - 95s 529ms/step - loss: 0.1258 - acc: 0.9480 - val_loss: 0.1969 - val_acc: 0.9160\n",
            "Epoch 11/50\n",
            "16/16 [==============================] - 10s 627ms/step - loss: 0.2085 - acc: 0.9155\n",
            "180/180 [==============================] - 93s 517ms/step - loss: 0.1219 - acc: 0.9501 - val_loss: 0.2085 - val_acc: 0.9155\n",
            "Epoch 12/50\n",
            "16/16 [==============================] - 10s 617ms/step - loss: 0.2148 - acc: 0.9190\n",
            "180/180 [==============================] - 93s 515ms/step - loss: 0.1114 - acc: 0.9547 - val_loss: 0.2148 - val_acc: 0.9190\n",
            "Epoch 13/50\n",
            "16/16 [==============================] - 10s 632ms/step - loss: 0.2149 - acc: 0.9150\n",
            "180/180 [==============================] - 93s 519ms/step - loss: 0.1096 - acc: 0.9551 - val_loss: 0.2149 - val_acc: 0.9150\n",
            "Epoch 14/50\n",
            "16/16 [==============================] - 10s 627ms/step - loss: 0.2322 - acc: 0.9170\n",
            "180/180 [==============================] - 93s 518ms/step - loss: 0.1063 - acc: 0.9577 - val_loss: 0.2322 - val_acc: 0.9170\n",
            "Epoch 15/50\n",
            "16/16 [==============================] - 10s 628ms/step - loss: 0.2125 - acc: 0.9185\n",
            "180/180 [==============================] - 93s 517ms/step - loss: 0.0928 - acc: 0.9623 - val_loss: 0.2125 - val_acc: 0.9185\n",
            "Epoch 16/50\n",
            "16/16 [==============================] - 10s 627ms/step - loss: 0.2267 - acc: 0.9245\n",
            "180/180 [==============================] - 93s 517ms/step - loss: 0.0937 - acc: 0.9641 - val_loss: 0.2267 - val_acc: 0.9245\n",
            "Epoch 17/50\n",
            "16/16 [==============================] - 10s 628ms/step - loss: 0.2218 - acc: 0.9165\n",
            "180/180 [==============================] - 93s 517ms/step - loss: 0.0834 - acc: 0.9657 - val_loss: 0.2218 - val_acc: 0.9165\n",
            "Epoch 18/50\n",
            "16/16 [==============================] - 10s 631ms/step - loss: 0.2324 - acc: 0.9240\n",
            "180/180 [==============================] - 96s 534ms/step - loss: 0.0753 - acc: 0.9694 - val_loss: 0.2324 - val_acc: 0.9240\n",
            "Epoch 19/50\n",
            "16/16 [==============================] - 10s 627ms/step - loss: 0.2152 - acc: 0.9175\n",
            "180/180 [==============================] - 93s 515ms/step - loss: 0.0749 - acc: 0.9693 - val_loss: 0.2152 - val_acc: 0.9175\n",
            "Epoch 20/50\n",
            "16/16 [==============================] - 10s 626ms/step - loss: 0.2213 - acc: 0.9180\n",
            "180/180 [==============================] - 92s 512ms/step - loss: 0.0739 - acc: 0.9706 - val_loss: 0.2213 - val_acc: 0.9180\n",
            "Epoch 21/50\n",
            "16/16 [==============================] - 10s 614ms/step - loss: 0.2408 - acc: 0.9240\n",
            "180/180 [==============================] - 96s 535ms/step - loss: 0.0744 - acc: 0.9689 - val_loss: 0.2408 - val_acc: 0.9240\n",
            "Epoch 22/50\n",
            "16/16 [==============================] - 10s 616ms/step - loss: 0.2370 - acc: 0.9200\n",
            "180/180 [==============================] - 92s 511ms/step - loss: 0.0684 - acc: 0.9729 - val_loss: 0.2370 - val_acc: 0.9200\n",
            "Epoch 23/50\n",
            "16/16 [==============================] - 10s 615ms/step - loss: 0.2605 - acc: 0.9105\n",
            "180/180 [==============================] - 90s 502ms/step - loss: 0.0730 - acc: 0.9703 - val_loss: 0.2605 - val_acc: 0.9105\n",
            "Epoch 24/50\n",
            "16/16 [==============================] - 10s 637ms/step - loss: 0.2428 - acc: 0.9230\n",
            "180/180 [==============================] - 95s 529ms/step - loss: 0.0663 - acc: 0.9732 - val_loss: 0.2428 - val_acc: 0.9230\n",
            "Epoch 25/50\n",
            "16/16 [==============================] - 10s 633ms/step - loss: 0.2456 - acc: 0.9200\n",
            "180/180 [==============================] - 93s 518ms/step - loss: 0.0684 - acc: 0.9727 - val_loss: 0.2456 - val_acc: 0.9200\n",
            "Epoch 26/50\n",
            "16/16 [==============================] - 10s 627ms/step - loss: 0.2522 - acc: 0.9215\n",
            "180/180 [==============================] - 92s 511ms/step - loss: 0.0641 - acc: 0.9738 - val_loss: 0.2522 - val_acc: 0.9215\n",
            "Epoch 27/50\n",
            "16/16 [==============================] - 10s 627ms/step - loss: 0.2693 - acc: 0.9240\n",
            "180/180 [==============================] - 93s 514ms/step - loss: 0.0579 - acc: 0.9762 - val_loss: 0.2693 - val_acc: 0.9240\n",
            "Epoch 28/50\n",
            "16/16 [==============================] - 10s 611ms/step - loss: 0.2694 - acc: 0.9170\n",
            "180/180 [==============================] - 91s 507ms/step - loss: 0.0494 - acc: 0.9810 - val_loss: 0.2694 - val_acc: 0.9170\n",
            "Epoch 29/50\n",
            "16/16 [==============================] - 10s 615ms/step - loss: 0.3074 - acc: 0.9155\n",
            "180/180 [==============================] - 91s 503ms/step - loss: 0.0529 - acc: 0.9783 - val_loss: 0.3074 - val_acc: 0.9155\n",
            "Epoch 30/50\n",
            "16/16 [==============================] - 11s 657ms/step - loss: 0.2841 - acc: 0.9195\n",
            "180/180 [==============================] - 92s 513ms/step - loss: 0.0456 - acc: 0.9816 - val_loss: 0.2841 - val_acc: 0.9195\n",
            "Epoch 31/50\n",
            "16/16 [==============================] - 10s 612ms/step - loss: 0.2941 - acc: 0.9200\n",
            "180/180 [==============================] - 91s 506ms/step - loss: 0.0476 - acc: 0.9813 - val_loss: 0.2941 - val_acc: 0.9200\n",
            "Epoch 32/50\n",
            "16/16 [==============================] - 10s 617ms/step - loss: 0.2712 - acc: 0.9185\n",
            "180/180 [==============================] - 90s 499ms/step - loss: 0.0462 - acc: 0.9814 - val_loss: 0.2712 - val_acc: 0.9185\n",
            "Epoch 33/50\n",
            "16/16 [==============================] - 10s 626ms/step - loss: 0.3125 - acc: 0.9130\n",
            "180/180 [==============================] - 91s 504ms/step - loss: 0.0461 - acc: 0.9814 - val_loss: 0.3125 - val_acc: 0.9130\n",
            "Epoch 34/50\n",
            "16/16 [==============================] - 10s 620ms/step - loss: 0.2674 - acc: 0.9220\n",
            "180/180 [==============================] - 92s 513ms/step - loss: 0.0569 - acc: 0.9781 - val_loss: 0.2674 - val_acc: 0.9220\n",
            "Epoch 35/50\n",
            "16/16 [==============================] - 10s 613ms/step - loss: 0.2891 - acc: 0.9190\n",
            "180/180 [==============================] - 90s 503ms/step - loss: 0.0485 - acc: 0.9809 - val_loss: 0.2891 - val_acc: 0.9190\n",
            "Epoch 36/50\n",
            "16/16 [==============================] - 10s 619ms/step - loss: 0.2916 - acc: 0.9230\n",
            "180/180 [==============================] - 91s 508ms/step - loss: 0.0464 - acc: 0.9817 - val_loss: 0.2916 - val_acc: 0.9230\n",
            "Epoch 37/50\n",
            "16/16 [==============================] - 10s 620ms/step - loss: 0.3328 - acc: 0.9180\n",
            "180/180 [==============================] - 92s 511ms/step - loss: 0.0406 - acc: 0.9845 - val_loss: 0.3328 - val_acc: 0.9180\n",
            "Epoch 38/50\n",
            "16/16 [==============================] - 10s 614ms/step - loss: 0.2916 - acc: 0.9245\n",
            "180/180 [==============================] - 91s 503ms/step - loss: 0.0427 - acc: 0.9835 - val_loss: 0.2916 - val_acc: 0.9245\n",
            "Epoch 39/50\n",
            "16/16 [==============================] - 10s 624ms/step - loss: 0.2810 - acc: 0.9240\n",
            "180/180 [==============================] - 91s 508ms/step - loss: 0.0491 - acc: 0.9810 - val_loss: 0.2810 - val_acc: 0.9240\n",
            "Epoch 40/50\n",
            "16/16 [==============================] - 10s 613ms/step - loss: 0.2724 - acc: 0.9265\n",
            "180/180 [==============================] - 90s 502ms/step - loss: 0.0441 - acc: 0.9818 - val_loss: 0.2724 - val_acc: 0.9265\n",
            "Epoch 41/50\n",
            "16/16 [==============================] - 10s 615ms/step - loss: 0.3165 - acc: 0.9195\n",
            "180/180 [==============================] - 92s 509ms/step - loss: 0.0442 - acc: 0.9812 - val_loss: 0.3165 - val_acc: 0.9195\n",
            "Epoch 42/50\n",
            "16/16 [==============================] - 10s 613ms/step - loss: 0.3429 - acc: 0.9205\n",
            "180/180 [==============================] - 91s 504ms/step - loss: 0.0436 - acc: 0.9822 - val_loss: 0.3429 - val_acc: 0.9205\n",
            "Epoch 43/50\n",
            "16/16 [==============================] - 10s 613ms/step - loss: 0.2853 - acc: 0.9220\n",
            "180/180 [==============================] - 90s 502ms/step - loss: 0.0372 - acc: 0.9856 - val_loss: 0.2853 - val_acc: 0.9220\n",
            "Epoch 44/50\n",
            "16/16 [==============================] - 10s 630ms/step - loss: 0.3351 - acc: 0.9215\n",
            "180/180 [==============================] - 95s 526ms/step - loss: 0.0425 - acc: 0.9838 - val_loss: 0.3351 - val_acc: 0.9215\n",
            "Epoch 45/50\n",
            "16/16 [==============================] - 10s 617ms/step - loss: 0.3180 - acc: 0.9195\n",
            "180/180 [==============================] - 93s 514ms/step - loss: 0.0386 - acc: 0.9847 - val_loss: 0.3180 - val_acc: 0.9195\n",
            "Epoch 46/50\n",
            "16/16 [==============================] - 10s 624ms/step - loss: 0.3633 - acc: 0.9180\n",
            "180/180 [==============================] - 91s 507ms/step - loss: 0.0382 - acc: 0.9838 - val_loss: 0.3633 - val_acc: 0.9180\n",
            "Epoch 47/50\n",
            "16/16 [==============================] - 11s 669ms/step - loss: 0.3628 - acc: 0.9170\n",
            "180/180 [==============================] - 93s 518ms/step - loss: 0.0329 - acc: 0.9866 - val_loss: 0.3628 - val_acc: 0.9170\n",
            "Epoch 48/50\n",
            "16/16 [==============================] - 10s 622ms/step - loss: 0.3670 - acc: 0.9205\n",
            "180/180 [==============================] - 94s 520ms/step - loss: 0.0373 - acc: 0.9851 - val_loss: 0.3670 - val_acc: 0.9205\n",
            "Epoch 49/50\n",
            "16/16 [==============================] - 10s 626ms/step - loss: 0.3217 - acc: 0.9235\n",
            "180/180 [==============================] - 92s 513ms/step - loss: 0.0380 - acc: 0.9847 - val_loss: 0.3217 - val_acc: 0.9235\n",
            "Epoch 50/50\n",
            "16/16 [==============================] - 10s 625ms/step - loss: 0.3001 - acc: 0.9200\n",
            "180/180 [==============================] - 93s 518ms/step - loss: 0.0353 - acc: 0.9861 - val_loss: 0.3001 - val_acc: 0.9200\n"
          ],
          "name": "stdout"
        },
        {
          "output_type": "execute_result",
          "data": {
            "text/plain": [
              "<tensorflow.python.keras.callbacks.History at 0x7fae01380940>"
            ]
          },
          "metadata": {
            "tags": []
          },
          "execution_count": 11
        }
      ]
    },
    {
      "metadata": {
        "id": "pzgDX4k5WX4e",
        "colab_type": "code",
        "colab": {}
      },
      "cell_type": "code",
      "source": [
        ""
      ],
      "execution_count": 0,
      "outputs": []
    }
  ]
}