{
  "nbformat": 4,
  "nbformat_minor": 0,
  "metadata": {
    "colab": {
      "name": "speech-base-model.ipynb",
      "version": "0.3.2",
      "provenance": [],
      "collapsed_sections": []
    },
    "kernelspec": {
      "name": "python3",
      "display_name": "Python 3"
    },
    "accelerator": "TPU"
  },
  "cells": [
    {
      "metadata": {
        "id": "MrJ3fObxIarV",
        "colab_type": "code",
        "colab": {}
      },
      "cell_type": "code",
      "source": [
        "import os, h5py, librosa\n",
        "import numpy as np\n",
        "import pandas as pd\n",
        "import tensorflow as tf\n",
        "\n",
        "from scipy.io import wavfile\n",
        "from sklearn.model_selection import StratifiedKFold\n",
        "from tensorflow.keras.layers import *\n",
        "from tensorflow.keras.models import *\n",
        "from tensorflow.keras import backend as K"
      ],
      "execution_count": 0,
      "outputs": []
    },
    {
      "metadata": {
        "id": "qhXRhHQ_InIz",
        "colab_type": "code",
        "colab": {}
      },
      "cell_type": "code",
      "source": [
        "DATA_DIR = './datasets'\n",
        "RANDOM_SEED = 10000\n",
        "NUM_FOLDS = 5\n",
        "EPOCHS = 5\n",
        "\n",
        "SAMPLE_RATE = 16000"
      ],
      "execution_count": 0,
      "outputs": []
    },
    {
      "metadata": {
        "id": "YizXHORdqcnb",
        "colab_type": "code",
        "outputId": "e4de3914-a41d-484d-f674-1dde62132d91",
        "colab": {
          "base_uri": "https://localhost:8080/",
          "height": 34
        }
      },
      "cell_type": "code",
      "source": [
        "tf.keras.utils.get_file('speech_commands_v0.02.tar.gz',\n",
        "                        origin= 'http://download.tensorflow.org/data/speech_commands_v0.02.tar.gz',\n",
        "                        extract=True, cache_dir='.')"
      ],
      "execution_count": 3,
      "outputs": [
        {
          "output_type": "execute_result",
          "data": {
            "text/plain": [
              "'./datasets/speech_commands_v0.02.tar.gz'"
            ]
          },
          "metadata": {
            "tags": []
          },
          "execution_count": 3
        }
      ]
    },
    {
      "metadata": {
        "id": "-EJ5qnG3VJcJ",
        "colab_type": "code",
        "colab": {}
      },
      "cell_type": "code",
      "source": [
        "def clear_dir(path):\n",
        "  !rm -rf $path\n",
        "  !mkdir -p $path"
      ],
      "execution_count": 0,
      "outputs": []
    },
    {
      "metadata": {
        "id": "JPI35CcHHJu5",
        "colab_type": "code",
        "colab": {}
      },
      "cell_type": "code",
      "source": [
        "def gen_silence():\n",
        "  np.random.seed(RANDOM_SEED)\n",
        "\n",
        "  path = f'{DATA_DIR}/_background_noise_/'\n",
        "  out_path = f'{DATA_DIR}/silence/'\n",
        "  \n",
        "  clear_dir(out_path)\n",
        "\n",
        "  files = [fp for fp in os.listdir(path) if fp.endswith('.wav')]\n",
        "  for filename in files:\n",
        "    sample_rate, samples = wavfile.read(path + filename)\n",
        "    for i in range(400):\n",
        "      out_name = f'segment_{i}_{filename}'\n",
        "      data = (samples[i * 200: i * 200 + sample_rate] * max(0, 2 * (np.random.random() - 0.25))).astype('int16')\n",
        "      if data.max() != 0:\n",
        "        wavfile.write(out_path + out_name, sample_rate, data)\n",
        "\n",
        "  for i in range(500):\n",
        "      d = np.zeros(16000)\n",
        "      loc = np.random.randint(0, 16000, 4600)\n",
        "      d[loc[::2]] = -1\n",
        "      d[loc[1::2]] = 1\n",
        "      wavfile.write(out_path + f'new_synthesised_{i}.wav', 16000, d)"
      ],
      "execution_count": 0,
      "outputs": []
    },
    {
      "metadata": {
        "id": "pYwVCAkQMSJR",
        "colab_type": "code",
        "outputId": "dbae06a0-8108-4c11-9151-385b255d969c",
        "colab": {
          "base_uri": "https://localhost:8080/",
          "height": 51
        }
      },
      "cell_type": "code",
      "source": [
        "clear_dir(f'{DATA_DIR}/silence/')\n",
        "gen_silence()"
      ],
      "execution_count": 6,
      "outputs": [
        {
          "output_type": "stream",
          "text": [
            "/usr/local/lib/python3.6/dist-packages/scipy/io/wavfile.py:273: WavFileWarning: Chunk (non-data) not understood, skipping it.\n",
            "  WavFileWarning)\n"
          ],
          "name": "stderr"
        }
      ]
    },
    {
      "metadata": {
        "id": "wHTXC91nP1at",
        "colab_type": "code",
        "colab": {}
      },
      "cell_type": "code",
      "source": [
        "full_labels=[\"up\", \"down\", \"go\", \"stop\", \"left\", \"right\", \"on\", \"off\", \"yes\", \"no\", \"silence\",\n",
        "    \"bed\", \"bird\", \"cat\", \"dog\", \"eight\", \"five\", \"four\", \"happy\", \"house\", \"marvin\",\n",
        "    \"nine\", \"one\", \"seven\", \"sheila\", \"six\", \"three\", \"tree\", \"two\", \"wow\", \"zero\"]"
      ],
      "execution_count": 0,
      "outputs": []
    },
    {
      "metadata": {
        "id": "6_ylZvsBI98M",
        "colab_type": "code",
        "colab": {}
      },
      "cell_type": "code",
      "source": [
        "def gen_train_label_files():\n",
        "  filepaths = []\n",
        "  filelabels = []\n",
        "\n",
        "  for label in full_labels:\n",
        "      files = [f for f in os.listdir(f'{DATA_DIR}/{label}') if f.endswith('.wav')]\n",
        "      filepaths.extend(files)\n",
        "      filelabels.extend([label for _ in range(len(files))])\n",
        "\n",
        "  train = pd.DataFrame({'file':filepaths, 'label':filelabels})\n",
        "  train[['file', 'label']].to_csv(\"./full_train_label_file.csv\", index=True)"
      ],
      "execution_count": 0,
      "outputs": []
    },
    {
      "metadata": {
        "id": "w8uAQF3jPW-o",
        "colab_type": "code",
        "colab": {}
      },
      "cell_type": "code",
      "source": [
        "gen_train_label_files()\n",
        "train_df = pd.read_csv('./full_train_label_file.csv')"
      ],
      "execution_count": 0,
      "outputs": []
    },
    {
      "metadata": {
        "id": "aIVIgX5mP6Vx",
        "colab_type": "code",
        "colab": {}
      },
      "cell_type": "code",
      "source": [
        "def read_logmelspectrogram(filepath, n_components=40, n_fft=400, hop_length=160):\n",
        "  samples, _ = librosa.load(filepath, sr=SAMPLE_RATE)\n",
        "  samples = samples[:SAMPLE_RATE]\n",
        "  samples = np.pad(samples, (0, max(0, SAMPLE_RATE - len(samples))), 'constant')\n",
        "  melspectrogram = librosa.feature.melspectrogram(y=samples, sr=SAMPLE_RATE, n_fft=n_fft, hop_length=hop_length, n_mels=n_components)\n",
        "  return librosa.power_to_db(melspectrogram)"
      ],
      "execution_count": 0,
      "outputs": []
    },
    {
      "metadata": {
        "id": "NxFzcrO5MnIU",
        "colab_type": "code",
        "colab": {}
      },
      "cell_type": "code",
      "source": [
        "def prepare_data(ds_name):\n",
        "  full_label_num_mapping={full_labels[i]: i for i in range(len(full_labels))}\n",
        "\n",
        "  n_rows = train_df.shape[0]\n",
        "  y = np.zeros((n_rows, 31))\n",
        "  for idx in range(n_rows):\n",
        "    y[idx, full_label_num_mapping[train_df.label.values[idx]]] = 1\n",
        "\n",
        "  get_audio_fn = lambda row: f\"{DATA_DIR}/{row['label']}/{row['file']}\"\n",
        "  audio_fn = train_df.apply(get_audio_fn, axis=1)\n",
        "  dataset_fn = f\"./{ds_name}.h5\"\n",
        "\n",
        "  if os.path.exists(dataset_fn):\n",
        "    with h5py.File(dataset_fn, \"r\") as hf:\n",
        "      X = hf[\".\"][\"X\"].value\n",
        "  else:\n",
        "    X = np.array([read_logmelspectrogram(fn) for fn in audio_fn])\n",
        "    with h5py.File(dataset_fn, \"w\") as hf:\n",
        "      hf.create_dataset(\"X\", data=X)\n",
        "      \n",
        "  return X, y"
      ],
      "execution_count": 0,
      "outputs": []
    },
    {
      "metadata": {
        "id": "rgXXJbNrAf5w",
        "colab_type": "code",
        "colab": {}
      },
      "cell_type": "code",
      "source": [
        "def conv_bn(x, c, kernel_size):\n",
        "  h = Conv2D(filters=c, kernel_size=kernel_size, padding='same')(x)\n",
        "  h = BatchNormalization()(h)\n",
        "  h = Activation('relu')(h)\n",
        "  return h"
      ],
      "execution_count": 0,
      "outputs": []
    },
    {
      "metadata": {
        "id": "YUN0sMftCfcl",
        "colab_type": "code",
        "colab": {}
      },
      "cell_type": "code",
      "source": [
        "def vgg_block(x, c, kernel_size):\n",
        "  h = conv_bn(x, c, kernel_size)\n",
        "  h = conv_bn(h, c, kernel_size)\n",
        "  h = MaxPooling2D()(h)\n",
        "  return h"
      ],
      "execution_count": 0,
      "outputs": []
    },
    {
      "metadata": {
        "id": "L1iDvCipDvvY",
        "colab_type": "code",
        "colab": {}
      },
      "cell_type": "code",
      "source": [
        "def vgg_dense_block(x, c, drop_rate):\n",
        "  h = Dense(units=c, activation='relu')(x)\n",
        "  h = BatchNormalization()(h)\n",
        "  h = Dropout(drop_rate)(h)\n",
        "  return h"
      ],
      "execution_count": 0,
      "outputs": []
    },
    {
      "metadata": {
        "id": "ftecnhIpGfM1",
        "colab_type": "code",
        "colab": {}
      },
      "cell_type": "code",
      "source": [
        "def global_pool_block(x):\n",
        "  gmp = GlobalMaxPooling2D()(x)\n",
        "  gap = GlobalAveragePooling2D()(x)\n",
        "  h = concatenate([gmp, gap])\n",
        "  return h"
      ],
      "execution_count": 0,
      "outputs": []
    },
    {
      "metadata": {
        "id": "BWRH9DatOYxG",
        "colab_type": "code",
        "colab": {}
      },
      "cell_type": "code",
      "source": [
        "def build_vgg_model(input_shape, c=16, kernel_size=(2,5), c_dense=256, drop_rate=0.5,\n",
        "                    opt = tf.train.AdadeltaOptimizer, lr = 1.0):\n",
        "  inputs = Input(shape=input_shape)\n",
        "  h = Reshape((input_shape[0], input_shape[1], 1))(inputs)\n",
        "\n",
        "  h = vgg_block(h, c, kernel_size)\n",
        "  h = vgg_block(h, c*2, kernel_size)\n",
        "  h = vgg_block(h, c*4, kernel_size)\n",
        "  h = vgg_block(h, c*8, kernel_size)\n",
        "\n",
        "  h = global_pool_block(h)\n",
        "  h = vgg_dense_block(h, c_dense, drop_rate)\n",
        "  h = vgg_dense_block(h, c_dense, drop_rate)\n",
        "  outputs = Dense(31, activation=\"softmax\")(h)\n",
        "\n",
        "  model = Model(inputs=inputs, outputs=outputs)\n",
        "  model.compile(optimizer=opt(learning_rate=lr), loss='binary_crossentropy', metrics=[\"accuracy\"])\n",
        "  return model"
      ],
      "execution_count": 0,
      "outputs": []
    },
    {
      "metadata": {
        "id": "ORnlx_yfmWcn",
        "colab_type": "code",
        "colab": {}
      },
      "cell_type": "code",
      "source": [
        "dataset = 'logmelspectrogram_40_101'\n",
        "model_builder = lambda input_shape: build_vgg_model(input_shape)\n",
        "model_arch = 'vgg'\n",
        "model_id = 1\n",
        "batch_size = 128"
      ],
      "execution_count": 0,
      "outputs": []
    },
    {
      "metadata": {
        "id": "Ut2-4z7unEkz",
        "colab_type": "code",
        "colab": {
          "base_uri": "https://localhost:8080/",
          "height": 34
        },
        "outputId": "9482cc67-f49f-420e-fb0d-c07a023fb0a7"
      },
      "cell_type": "code",
      "source": [
        "model_name = f\"{dataset}-{model_arch}-{model_id}\"\n",
        "out_dir = f\"./models/{model_name}/\"\n",
        "clear_dir(out_dir)"
      ],
      "execution_count": 18,
      "outputs": [
        {
          "output_type": "stream",
          "text": [
            "rm: cannot remove './models/logmelspectrogram_40_101-vgg-1/': No such file or directory\n"
          ],
          "name": "stdout"
        }
      ]
    },
    {
      "metadata": {
        "id": "4fFqnfFOnU54",
        "colab_type": "code",
        "colab": {
          "base_uri": "https://localhost:8080/",
          "height": 34
        },
        "outputId": "b0a5d782-1c1f-44d4-b832-bed5b63551fe"
      },
      "cell_type": "code",
      "source": [
        "X, y = prepare_data(dataset)\n",
        "input_shape = X[0].shape\n",
        "input_shape"
      ],
      "execution_count": 19,
      "outputs": [
        {
          "output_type": "execute_result",
          "data": {
            "text/plain": [
              "(40, 101)"
            ]
          },
          "metadata": {
            "tags": []
          },
          "execution_count": 19
        }
      ]
    },
    {
      "metadata": {
        "id": "XYkpNjepn7sm",
        "colab_type": "code",
        "colab": {}
      },
      "cell_type": "code",
      "source": [
        "splitter = StratifiedKFold(n_splits=NUM_FOLDS, shuffle=True, random_state=RANDOM_SEED)\n",
        "folds = splitter.split(train_df, train_df.label)"
      ],
      "execution_count": 0,
      "outputs": []
    },
    {
      "metadata": {
        "id": "5pJPq2nKoQVY",
        "colab_type": "code",
        "colab": {
          "base_uri": "https://localhost:8080/",
          "height": 4746
        },
        "outputId": "f5fe8020-1d84-408d-baa5-736fc81624cd"
      },
      "cell_type": "code",
      "source": [
        "for i, (train_indices, valid_indices) in enumerate(folds):\n",
        "  X_train, X_valid = X[train_indices], X[valid_indices]\n",
        "  y_train, y_valid = y[train_indices], y[valid_indices]\n",
        "\n",
        "  model = model_builder(input_shape)\n",
        "\n",
        "  model = tf.contrib.tpu.keras_to_tpu_model(\n",
        "    model,\n",
        "    strategy=tf.contrib.tpu.TPUDistributionStrategy(\n",
        "        tf.contrib.cluster_resolver.TPUClusterResolver(tpu=f'grpc://{os.environ[\"COLAB_TPU_ADDR\"]}')\n",
        "    )\n",
        "  )\n",
        "\n",
        "  history = model.fit(X_train, y_train, epochs = EPOCHS, validation_data = (X_valid, y_valid), batch_size = batch_size)\n",
        "\n",
        "  model.save(out_dir + 'bag_{}_model.h5'.format(i))\n",
        "  del model\n",
        "  K.clear_session()"
      ],
      "execution_count": 21,
      "outputs": [
        {
          "output_type": "stream",
          "text": [
            "WARNING:tensorflow:From /usr/local/lib/python3.6/dist-packages/tensorflow/python/ops/resource_variable_ops.py:435: colocate_with (from tensorflow.python.framework.ops) is deprecated and will be removed in a future version.\n",
            "Instructions for updating:\n",
            "Colocations handled automatically by placer.\n",
            "WARNING:tensorflow:From /usr/local/lib/python3.6/dist-packages/tensorflow/python/keras/layers/core.py:143: calling dropout (from tensorflow.python.ops.nn_ops) with keep_prob is deprecated and will be removed in a future version.\n",
            "Instructions for updating:\n",
            "Please use `rate` instead of `keep_prob`. Rate should be set to `rate = 1 - keep_prob`.\n",
            "\n",
            "WARNING: The TensorFlow contrib module will not be included in TensorFlow 2.0.\n",
            "For more information, please see:\n",
            "  * https://github.com/tensorflow/community/blob/master/rfcs/20180907-contrib-sunset.md\n",
            "  * https://github.com/tensorflow/addons\n",
            "If you depend on functionality not listed there, please file an issue.\n",
            "\n",
            "INFO:tensorflow:Querying Tensorflow master (grpc://10.107.171.82:8470) for TPU system metadata.\n",
            "INFO:tensorflow:Found TPU system:\n",
            "INFO:tensorflow:*** Num TPU Cores: 8\n",
            "INFO:tensorflow:*** Num TPU Workers: 1\n",
            "INFO:tensorflow:*** Num TPU Cores Per Worker: 8\n",
            "INFO:tensorflow:*** Available Device: _DeviceAttributes(/job:worker/replica:0/task:0/device:CPU:0, CPU, -1, 11688625823266125391)\n",
            "INFO:tensorflow:*** Available Device: _DeviceAttributes(/job:worker/replica:0/task:0/device:XLA_CPU:0, XLA_CPU, 17179869184, 12913491875793011610)\n",
            "INFO:tensorflow:*** Available Device: _DeviceAttributes(/job:worker/replica:0/task:0/device:TPU:0, TPU, 17179869184, 2934059433015577649)\n",
            "INFO:tensorflow:*** Available Device: _DeviceAttributes(/job:worker/replica:0/task:0/device:TPU:1, TPU, 17179869184, 13991698862631723669)\n",
            "INFO:tensorflow:*** Available Device: _DeviceAttributes(/job:worker/replica:0/task:0/device:TPU:2, TPU, 17179869184, 3074852103338586027)\n",
            "INFO:tensorflow:*** Available Device: _DeviceAttributes(/job:worker/replica:0/task:0/device:TPU:3, TPU, 17179869184, 10752040505108523305)\n",
            "INFO:tensorflow:*** Available Device: _DeviceAttributes(/job:worker/replica:0/task:0/device:TPU:4, TPU, 17179869184, 14335711635147623951)\n",
            "INFO:tensorflow:*** Available Device: _DeviceAttributes(/job:worker/replica:0/task:0/device:TPU:5, TPU, 17179869184, 3864049385990029249)\n",
            "INFO:tensorflow:*** Available Device: _DeviceAttributes(/job:worker/replica:0/task:0/device:TPU:6, TPU, 17179869184, 6252839698839327862)\n",
            "INFO:tensorflow:*** Available Device: _DeviceAttributes(/job:worker/replica:0/task:0/device:TPU:7, TPU, 17179869184, 6838566110196517659)\n",
            "INFO:tensorflow:*** Available Device: _DeviceAttributes(/job:worker/replica:0/task:0/device:TPU_SYSTEM:0, TPU_SYSTEM, 17179869184, 6174872438013558611)\n",
            "WARNING:tensorflow:tpu_model (from tensorflow.contrib.tpu.python.tpu.keras_support) is experimental and may change or be removed at any time, and without warning.\n",
            "Train on 80069 samples, validate on 20031 samples\n",
            "Epoch 1/5\n",
            "INFO:tensorflow:New input shapes; (re-)compiling: mode=train (# of cores 8), [TensorSpec(shape=(16,), dtype=tf.int32, name='core_id0'), TensorSpec(shape=(16, 40, 101), dtype=tf.float32, name='input_1_10'), TensorSpec(shape=(16, 31), dtype=tf.float32, name='dense_2_target_30')]\n",
            "INFO:tensorflow:Overriding default placeholder.\n",
            "INFO:tensorflow:Remapping placeholder for input_1\n",
            "WARNING:tensorflow:From /usr/local/lib/python3.6/dist-packages/tensorflow/contrib/tpu/python/tpu/keras_support.py:302: to_float (from tensorflow.python.ops.math_ops) is deprecated and will be removed in a future version.\n",
            "Instructions for updating:\n",
            "Use tf.cast instead.\n",
            "WARNING:tensorflow:From /usr/local/lib/python3.6/dist-packages/tensorflow/python/ops/math_ops.py:3066: to_int32 (from tensorflow.python.ops.math_ops) is deprecated and will be removed in a future version.\n",
            "Instructions for updating:\n",
            "Use tf.cast instead.\n",
            "WARNING:tensorflow:From /usr/local/lib/python3.6/dist-packages/tensorflow/python/ops/math_grad.py:102: div (from tensorflow.python.ops.math_ops) is deprecated and will be removed in a future version.\n",
            "Instructions for updating:\n",
            "Deprecated in favor of operator or tf.math.divide.\n",
            "INFO:tensorflow:Started compiling\n",
            "INFO:tensorflow:Finished compiling. Time elapsed: 7.8737123012542725 secs\n",
            "INFO:tensorflow:Setting weights on TPU model.\n",
            "79872/80069 [============================>.] - ETA: 0s - loss: 0.1035 - acc: 0.9719INFO:tensorflow:New input shapes; (re-)compiling: mode=train (# of cores 8), [TensorSpec(shape=(8,), dtype=tf.int32, name='core_id0'), TensorSpec(shape=(8, 40, 101), dtype=tf.float32, name='input_1_10'), TensorSpec(shape=(8, 31), dtype=tf.float32, name='dense_2_target_30')]\n",
            "INFO:tensorflow:Overriding default placeholder.\n",
            "INFO:tensorflow:Remapping placeholder for input_1\n",
            "INFO:tensorflow:Started compiling\n",
            "INFO:tensorflow:Finished compiling. Time elapsed: 6.806942939758301 secs\n",
            "80000/80069 [============================>.] - ETA: 0s - loss: 0.1034 - acc: 0.9719INFO:tensorflow:New input shapes; (re-)compiling: mode=eval (# of cores 8), [TensorSpec(shape=(16,), dtype=tf.int32, name='core_id_10'), TensorSpec(shape=(16, 40, 101), dtype=tf.float32, name='input_1_10'), TensorSpec(shape=(16, 31), dtype=tf.float32, name='dense_2_target_30')]\n",
            "INFO:tensorflow:Overriding default placeholder.\n",
            "INFO:tensorflow:Remapping placeholder for input_1\n",
            "INFO:tensorflow:Started compiling\n",
            "INFO:tensorflow:Finished compiling. Time elapsed: 6.114707946777344 secs\n",
            "INFO:tensorflow:New input shapes; (re-)compiling: mode=eval (# of cores 8), [TensorSpec(shape=(7,), dtype=tf.int32, name='core_id_10'), TensorSpec(shape=(7, 40, 101), dtype=tf.float32, name='input_1_10'), TensorSpec(shape=(7, 31), dtype=tf.float32, name='dense_2_target_30')]\n",
            "INFO:tensorflow:Overriding default placeholder.\n",
            "INFO:tensorflow:Remapping placeholder for input_1\n",
            "INFO:tensorflow:Started compiling\n",
            "INFO:tensorflow:Finished compiling. Time elapsed: 16.17891001701355 secs\n",
            "80069/80069 [==============================] - 120s 1ms/sample - loss: 0.1034 - acc: 0.9719 - val_loss: 0.0456 - val_acc: 0.9850\n",
            "Epoch 2/5\n",
            "80069/80069 [==============================] - 59s 742us/sample - loss: 0.0378 - acc: 0.9875 - val_loss: 0.0275 - val_acc: 0.9907\n",
            "Epoch 3/5\n",
            "80069/80069 [==============================] - 59s 736us/sample - loss: 0.0256 - acc: 0.9917 - val_loss: 0.0166 - val_acc: 0.9945\n",
            "Epoch 4/5\n",
            "80069/80069 [==============================] - 59s 732us/sample - loss: 0.0205 - acc: 0.9936 - val_loss: 0.0136 - val_acc: 0.9956\n",
            "Epoch 5/5\n",
            "80069/80069 [==============================] - 59s 741us/sample - loss: 0.0174 - acc: 0.9945 - val_loss: 0.0111 - val_acc: 0.9964\n",
            "INFO:tensorflow:Copying TPU weights to the CPU\n",
            "WARNING:tensorflow:TensorFlow optimizers do not make it possible to access optimizer attributes or optimizer state after instantiation. As a result, we cannot save the optimizer as part of the model save file.You will have to compile your model again after loading it. Prefer using a Keras optimizer instead (see keras.io/optimizers).\n",
            "INFO:tensorflow:Querying Tensorflow master (grpc://10.107.171.82:8470) for TPU system metadata.\n",
            "INFO:tensorflow:Found TPU system:\n",
            "INFO:tensorflow:*** Num TPU Cores: 8\n",
            "INFO:tensorflow:*** Num TPU Workers: 1\n",
            "INFO:tensorflow:*** Num TPU Cores Per Worker: 8\n",
            "INFO:tensorflow:*** Available Device: _DeviceAttributes(/job:worker/replica:0/task:0/device:CPU:0, CPU, -1, 11688625823266125391)\n",
            "INFO:tensorflow:*** Available Device: _DeviceAttributes(/job:worker/replica:0/task:0/device:XLA_CPU:0, XLA_CPU, 17179869184, 12913491875793011610)\n",
            "INFO:tensorflow:*** Available Device: _DeviceAttributes(/job:worker/replica:0/task:0/device:TPU:0, TPU, 17179869184, 2934059433015577649)\n",
            "INFO:tensorflow:*** Available Device: _DeviceAttributes(/job:worker/replica:0/task:0/device:TPU:1, TPU, 17179869184, 13991698862631723669)\n",
            "INFO:tensorflow:*** Available Device: _DeviceAttributes(/job:worker/replica:0/task:0/device:TPU:2, TPU, 17179869184, 3074852103338586027)\n",
            "INFO:tensorflow:*** Available Device: _DeviceAttributes(/job:worker/replica:0/task:0/device:TPU:3, TPU, 17179869184, 10752040505108523305)\n",
            "INFO:tensorflow:*** Available Device: _DeviceAttributes(/job:worker/replica:0/task:0/device:TPU:4, TPU, 17179869184, 14335711635147623951)\n",
            "INFO:tensorflow:*** Available Device: _DeviceAttributes(/job:worker/replica:0/task:0/device:TPU:5, TPU, 17179869184, 3864049385990029249)\n",
            "INFO:tensorflow:*** Available Device: _DeviceAttributes(/job:worker/replica:0/task:0/device:TPU:6, TPU, 17179869184, 6252839698839327862)\n",
            "INFO:tensorflow:*** Available Device: _DeviceAttributes(/job:worker/replica:0/task:0/device:TPU:7, TPU, 17179869184, 6838566110196517659)\n",
            "INFO:tensorflow:*** Available Device: _DeviceAttributes(/job:worker/replica:0/task:0/device:TPU_SYSTEM:0, TPU_SYSTEM, 17179869184, 6174872438013558611)\n",
            "WARNING:tensorflow:tpu_model (from tensorflow.contrib.tpu.python.tpu.keras_support) is experimental and may change or be removed at any time, and without warning.\n",
            "Train on 80072 samples, validate on 20028 samples\n",
            "Epoch 1/5\n",
            "INFO:tensorflow:New input shapes; (re-)compiling: mode=train (# of cores 8), [TensorSpec(shape=(16,), dtype=tf.int32, name='core_id0'), TensorSpec(shape=(16, 40, 101), dtype=tf.float32, name='input_1_10'), TensorSpec(shape=(16, 31), dtype=tf.float32, name='dense_2_target_30')]\n",
            "INFO:tensorflow:Overriding default placeholder.\n",
            "INFO:tensorflow:Remapping placeholder for input_1\n",
            "INFO:tensorflow:Started compiling\n",
            "INFO:tensorflow:Finished compiling. Time elapsed: 8.03759217262268 secs\n",
            "INFO:tensorflow:Setting weights on TPU model.\n",
            "79872/80072 [============================>.] - ETA: 0s - loss: 0.1097 - acc: 0.9708INFO:tensorflow:New input shapes; (re-)compiling: mode=train (# of cores 8), [TensorSpec(shape=(9,), dtype=tf.int32, name='core_id0'), TensorSpec(shape=(9, 40, 101), dtype=tf.float32, name='input_1_10'), TensorSpec(shape=(9, 31), dtype=tf.float32, name='dense_2_target_30')]\n",
            "INFO:tensorflow:Overriding default placeholder.\n",
            "INFO:tensorflow:Remapping placeholder for input_1\n",
            "INFO:tensorflow:Started compiling\n",
            "INFO:tensorflow:Finished compiling. Time elapsed: 6.893153429031372 secs\n",
            "80000/80072 [============================>.] - ETA: 0s - loss: 0.1097 - acc: 0.9708INFO:tensorflow:New input shapes; (re-)compiling: mode=eval (# of cores 8), [TensorSpec(shape=(16,), dtype=tf.int32, name='core_id_10'), TensorSpec(shape=(16, 40, 101), dtype=tf.float32, name='input_1_10'), TensorSpec(shape=(16, 31), dtype=tf.float32, name='dense_2_target_30')]\n",
            "INFO:tensorflow:Overriding default placeholder.\n",
            "INFO:tensorflow:Remapping placeholder for input_1\n",
            "INFO:tensorflow:Started compiling\n",
            "INFO:tensorflow:Finished compiling. Time elapsed: 6.231494188308716 secs\n",
            "INFO:tensorflow:New input shapes; (re-)compiling: mode=eval (# of cores 8), [TensorSpec(shape=(7,), dtype=tf.int32, name='core_id_10'), TensorSpec(shape=(7, 40, 101), dtype=tf.float32, name='input_1_10'), TensorSpec(shape=(7, 31), dtype=tf.float32, name='dense_2_target_30')]\n",
            "INFO:tensorflow:Overriding default placeholder.\n",
            "INFO:tensorflow:Remapping placeholder for input_1\n",
            "INFO:tensorflow:Started compiling\n",
            "INFO:tensorflow:Finished compiling. Time elapsed: 16.221179485321045 secs\n",
            "80072/80072 [==============================] - 140s 2ms/sample - loss: 0.1096 - acc: 0.9708 - val_loss: 0.0464 - val_acc: 0.9851\n",
            "Epoch 2/5\n",
            "80072/80072 [==============================] - 75s 939us/sample - loss: 0.0397 - acc: 0.9868 - val_loss: 0.0237 - val_acc: 0.9922\n",
            "Epoch 3/5\n",
            "80072/80072 [==============================] - 74s 922us/sample - loss: 0.0259 - acc: 0.9916 - val_loss: 0.0166 - val_acc: 0.9946\n",
            "Epoch 4/5\n",
            "80072/80072 [==============================] - 74s 924us/sample - loss: 0.0207 - acc: 0.9935 - val_loss: 0.0148 - val_acc: 0.9951\n",
            "Epoch 5/5\n",
            "80072/80072 [==============================] - 75s 932us/sample - loss: 0.0174 - acc: 0.9946 - val_loss: 0.0123 - val_acc: 0.9960\n",
            "INFO:tensorflow:Copying TPU weights to the CPU\n",
            "WARNING:tensorflow:TensorFlow optimizers do not make it possible to access optimizer attributes or optimizer state after instantiation. As a result, we cannot save the optimizer as part of the model save file.You will have to compile your model again after loading it. Prefer using a Keras optimizer instead (see keras.io/optimizers).\n",
            "INFO:tensorflow:Querying Tensorflow master (grpc://10.107.171.82:8470) for TPU system metadata.\n",
            "INFO:tensorflow:Found TPU system:\n",
            "INFO:tensorflow:*** Num TPU Cores: 8\n",
            "INFO:tensorflow:*** Num TPU Workers: 1\n",
            "INFO:tensorflow:*** Num TPU Cores Per Worker: 8\n",
            "INFO:tensorflow:*** Available Device: _DeviceAttributes(/job:worker/replica:0/task:0/device:CPU:0, CPU, -1, 11688625823266125391)\n",
            "INFO:tensorflow:*** Available Device: _DeviceAttributes(/job:worker/replica:0/task:0/device:XLA_CPU:0, XLA_CPU, 17179869184, 12913491875793011610)\n",
            "INFO:tensorflow:*** Available Device: _DeviceAttributes(/job:worker/replica:0/task:0/device:TPU:0, TPU, 17179869184, 2934059433015577649)\n",
            "INFO:tensorflow:*** Available Device: _DeviceAttributes(/job:worker/replica:0/task:0/device:TPU:1, TPU, 17179869184, 13991698862631723669)\n",
            "INFO:tensorflow:*** Available Device: _DeviceAttributes(/job:worker/replica:0/task:0/device:TPU:2, TPU, 17179869184, 3074852103338586027)\n",
            "INFO:tensorflow:*** Available Device: _DeviceAttributes(/job:worker/replica:0/task:0/device:TPU:3, TPU, 17179869184, 10752040505108523305)\n",
            "INFO:tensorflow:*** Available Device: _DeviceAttributes(/job:worker/replica:0/task:0/device:TPU:4, TPU, 17179869184, 14335711635147623951)\n",
            "INFO:tensorflow:*** Available Device: _DeviceAttributes(/job:worker/replica:0/task:0/device:TPU:5, TPU, 17179869184, 3864049385990029249)\n",
            "INFO:tensorflow:*** Available Device: _DeviceAttributes(/job:worker/replica:0/task:0/device:TPU:6, TPU, 17179869184, 6252839698839327862)\n",
            "INFO:tensorflow:*** Available Device: _DeviceAttributes(/job:worker/replica:0/task:0/device:TPU:7, TPU, 17179869184, 6838566110196517659)\n",
            "INFO:tensorflow:*** Available Device: _DeviceAttributes(/job:worker/replica:0/task:0/device:TPU_SYSTEM:0, TPU_SYSTEM, 17179869184, 6174872438013558611)\n",
            "WARNING:tensorflow:tpu_model (from tensorflow.contrib.tpu.python.tpu.keras_support) is experimental and may change or be removed at any time, and without warning.\n",
            "Train on 80079 samples, validate on 20021 samples\n",
            "Epoch 1/5\n",
            "INFO:tensorflow:New input shapes; (re-)compiling: mode=train (# of cores 8), [TensorSpec(shape=(16,), dtype=tf.int32, name='core_id0'), TensorSpec(shape=(16, 40, 101), dtype=tf.float32, name='input_1_10'), TensorSpec(shape=(16, 31), dtype=tf.float32, name='dense_2_target_30')]\n",
            "INFO:tensorflow:Overriding default placeholder.\n",
            "INFO:tensorflow:Remapping placeholder for input_1\n",
            "INFO:tensorflow:Started compiling\n",
            "INFO:tensorflow:Finished compiling. Time elapsed: 7.9318859577178955 secs\n",
            "INFO:tensorflow:Setting weights on TPU model.\n",
            "79872/80079 [============================>.] - ETA: 0s - loss: 0.1007 - acc: 0.9722INFO:tensorflow:New input shapes; (re-)compiling: mode=train (# of cores 8), [TensorSpec(shape=(9,), dtype=tf.int32, name='core_id0'), TensorSpec(shape=(9, 40, 101), dtype=tf.float32, name='input_1_10'), TensorSpec(shape=(9, 31), dtype=tf.float32, name='dense_2_target_30')]\n",
            "INFO:tensorflow:Overriding default placeholder.\n",
            "INFO:tensorflow:Remapping placeholder for input_1\n",
            "INFO:tensorflow:Started compiling\n",
            "INFO:tensorflow:Finished compiling. Time elapsed: 7.015344142913818 secs\n",
            "80000/80079 [============================>.] - ETA: 0s - loss: 0.1007 - acc: 0.9722INFO:tensorflow:New input shapes; (re-)compiling: mode=eval (# of cores 8), [TensorSpec(shape=(16,), dtype=tf.int32, name='core_id_10'), TensorSpec(shape=(16, 40, 101), dtype=tf.float32, name='input_1_10'), TensorSpec(shape=(16, 31), dtype=tf.float32, name='dense_2_target_30')]\n",
            "INFO:tensorflow:Overriding default placeholder.\n",
            "INFO:tensorflow:Remapping placeholder for input_1\n",
            "INFO:tensorflow:Started compiling\n",
            "INFO:tensorflow:Finished compiling. Time elapsed: 6.268090486526489 secs\n",
            "INFO:tensorflow:New input shapes; (re-)compiling: mode=eval (# of cores 8), [TensorSpec(shape=(6,), dtype=tf.int32, name='core_id_10'), TensorSpec(shape=(6, 40, 101), dtype=tf.float32, name='input_1_10'), TensorSpec(shape=(6, 31), dtype=tf.float32, name='dense_2_target_30')]\n",
            "INFO:tensorflow:Overriding default placeholder.\n",
            "INFO:tensorflow:Remapping placeholder for input_1\n",
            "INFO:tensorflow:Started compiling\n",
            "INFO:tensorflow:Finished compiling. Time elapsed: 15.053943157196045 secs\n",
            "80079/80079 [==============================] - 120s 1ms/sample - loss: 0.1006 - acc: 0.9722 - val_loss: 0.0485 - val_acc: 0.9831\n",
            "Epoch 2/5\n",
            "80079/80079 [==============================] - 58s 723us/sample - loss: 0.0380 - acc: 0.9874 - val_loss: 0.0217 - val_acc: 0.9930\n",
            "Epoch 3/5\n",
            "80079/80079 [==============================] - 59s 739us/sample - loss: 0.0257 - acc: 0.9918 - val_loss: 0.0264 - val_acc: 0.9915\n",
            "Epoch 4/5\n",
            "80079/80079 [==============================] - 59s 735us/sample - loss: 0.0206 - acc: 0.9935 - val_loss: 0.0141 - val_acc: 0.9954\n",
            "Epoch 5/5\n",
            "80079/80079 [==============================] - 58s 730us/sample - loss: 0.0176 - acc: 0.9945 - val_loss: 0.0139 - val_acc: 0.9955\n",
            "INFO:tensorflow:Copying TPU weights to the CPU\n",
            "WARNING:tensorflow:TensorFlow optimizers do not make it possible to access optimizer attributes or optimizer state after instantiation. As a result, we cannot save the optimizer as part of the model save file.You will have to compile your model again after loading it. Prefer using a Keras optimizer instead (see keras.io/optimizers).\n",
            "INFO:tensorflow:Querying Tensorflow master (grpc://10.107.171.82:8470) for TPU system metadata.\n",
            "INFO:tensorflow:Found TPU system:\n",
            "INFO:tensorflow:*** Num TPU Cores: 8\n",
            "INFO:tensorflow:*** Num TPU Workers: 1\n",
            "INFO:tensorflow:*** Num TPU Cores Per Worker: 8\n",
            "INFO:tensorflow:*** Available Device: _DeviceAttributes(/job:worker/replica:0/task:0/device:CPU:0, CPU, -1, 11688625823266125391)\n",
            "INFO:tensorflow:*** Available Device: _DeviceAttributes(/job:worker/replica:0/task:0/device:XLA_CPU:0, XLA_CPU, 17179869184, 12913491875793011610)\n",
            "INFO:tensorflow:*** Available Device: _DeviceAttributes(/job:worker/replica:0/task:0/device:TPU:0, TPU, 17179869184, 2934059433015577649)\n",
            "INFO:tensorflow:*** Available Device: _DeviceAttributes(/job:worker/replica:0/task:0/device:TPU:1, TPU, 17179869184, 13991698862631723669)\n",
            "INFO:tensorflow:*** Available Device: _DeviceAttributes(/job:worker/replica:0/task:0/device:TPU:2, TPU, 17179869184, 3074852103338586027)\n",
            "INFO:tensorflow:*** Available Device: _DeviceAttributes(/job:worker/replica:0/task:0/device:TPU:3, TPU, 17179869184, 10752040505108523305)\n",
            "INFO:tensorflow:*** Available Device: _DeviceAttributes(/job:worker/replica:0/task:0/device:TPU:4, TPU, 17179869184, 14335711635147623951)\n",
            "INFO:tensorflow:*** Available Device: _DeviceAttributes(/job:worker/replica:0/task:0/device:TPU:5, TPU, 17179869184, 3864049385990029249)\n",
            "INFO:tensorflow:*** Available Device: _DeviceAttributes(/job:worker/replica:0/task:0/device:TPU:6, TPU, 17179869184, 6252839698839327862)\n",
            "INFO:tensorflow:*** Available Device: _DeviceAttributes(/job:worker/replica:0/task:0/device:TPU:7, TPU, 17179869184, 6838566110196517659)\n",
            "INFO:tensorflow:*** Available Device: _DeviceAttributes(/job:worker/replica:0/task:0/device:TPU_SYSTEM:0, TPU_SYSTEM, 17179869184, 6174872438013558611)\n",
            "WARNING:tensorflow:tpu_model (from tensorflow.contrib.tpu.python.tpu.keras_support) is experimental and may change or be removed at any time, and without warning.\n",
            "Train on 80087 samples, validate on 20013 samples\n",
            "Epoch 1/5\n",
            "INFO:tensorflow:New input shapes; (re-)compiling: mode=train (# of cores 8), [TensorSpec(shape=(16,), dtype=tf.int32, name='core_id0'), TensorSpec(shape=(16, 40, 101), dtype=tf.float32, name='input_1_10'), TensorSpec(shape=(16, 31), dtype=tf.float32, name='dense_2_target_30')]\n",
            "INFO:tensorflow:Overriding default placeholder.\n",
            "INFO:tensorflow:Remapping placeholder for input_1\n",
            "INFO:tensorflow:Started compiling\n",
            "INFO:tensorflow:Finished compiling. Time elapsed: 8.01500916481018 secs\n",
            "INFO:tensorflow:Setting weights on TPU model.\n",
            "79872/80087 [============================>.] - ETA: 0s - loss: 0.1075 - acc: 0.9717INFO:tensorflow:New input shapes; (re-)compiling: mode=train (# of cores 8), [TensorSpec(shape=(10,), dtype=tf.int32, name='core_id0'), TensorSpec(shape=(10, 40, 101), dtype=tf.float32, name='input_1_10'), TensorSpec(shape=(10, 31), dtype=tf.float32, name='dense_2_target_30')]\n",
            "INFO:tensorflow:Overriding default placeholder.\n",
            "INFO:tensorflow:Remapping placeholder for input_1\n",
            "INFO:tensorflow:Started compiling\n",
            "INFO:tensorflow:Finished compiling. Time elapsed: 6.9181740283966064 secs\n",
            "80000/80087 [============================>.] - ETA: 0s - loss: 0.1074 - acc: 0.9717INFO:tensorflow:New input shapes; (re-)compiling: mode=eval (# of cores 8), [TensorSpec(shape=(16,), dtype=tf.int32, name='core_id_10'), TensorSpec(shape=(16, 40, 101), dtype=tf.float32, name='input_1_10'), TensorSpec(shape=(16, 31), dtype=tf.float32, name='dense_2_target_30')]\n",
            "INFO:tensorflow:Overriding default placeholder.\n",
            "INFO:tensorflow:Remapping placeholder for input_1\n",
            "INFO:tensorflow:Started compiling\n",
            "INFO:tensorflow:Finished compiling. Time elapsed: 6.044694662094116 secs\n",
            "INFO:tensorflow:New input shapes; (re-)compiling: mode=eval (# of cores 8), [TensorSpec(shape=(5,), dtype=tf.int32, name='core_id_10'), TensorSpec(shape=(5, 40, 101), dtype=tf.float32, name='input_1_10'), TensorSpec(shape=(5, 31), dtype=tf.float32, name='dense_2_target_30')]\n",
            "INFO:tensorflow:Overriding default placeholder.\n",
            "INFO:tensorflow:Remapping placeholder for input_1\n",
            "INFO:tensorflow:Started compiling\n",
            "INFO:tensorflow:Finished compiling. Time elapsed: 17.479521989822388 secs\n",
            "80087/80087 [==============================] - 123s 2ms/sample - loss: 0.1073 - acc: 0.9717 - val_loss: 0.0419 - val_acc: 0.9858\n",
            "Epoch 2/5\n",
            "80087/80087 [==============================] - 59s 739us/sample - loss: 0.0388 - acc: 0.9870 - val_loss: 0.0203 - val_acc: 0.9934\n",
            "Epoch 3/5\n",
            "80087/80087 [==============================] - 59s 732us/sample - loss: 0.0254 - acc: 0.9918 - val_loss: 0.0162 - val_acc: 0.9947\n",
            "Epoch 4/5\n",
            "80087/80087 [==============================] - 59s 735us/sample - loss: 0.0200 - acc: 0.9936 - val_loss: 0.0155 - val_acc: 0.9950\n",
            "Epoch 5/5\n",
            "80087/80087 [==============================] - 58s 730us/sample - loss: 0.0171 - acc: 0.9945 - val_loss: 0.0159 - val_acc: 0.9948\n",
            "INFO:tensorflow:Copying TPU weights to the CPU\n",
            "WARNING:tensorflow:TensorFlow optimizers do not make it possible to access optimizer attributes or optimizer state after instantiation. As a result, we cannot save the optimizer as part of the model save file.You will have to compile your model again after loading it. Prefer using a Keras optimizer instead (see keras.io/optimizers).\n",
            "INFO:tensorflow:Querying Tensorflow master (grpc://10.107.171.82:8470) for TPU system metadata.\n",
            "INFO:tensorflow:Found TPU system:\n",
            "INFO:tensorflow:*** Num TPU Cores: 8\n",
            "INFO:tensorflow:*** Num TPU Workers: 1\n",
            "INFO:tensorflow:*** Num TPU Cores Per Worker: 8\n",
            "INFO:tensorflow:*** Available Device: _DeviceAttributes(/job:worker/replica:0/task:0/device:CPU:0, CPU, -1, 11688625823266125391)\n",
            "INFO:tensorflow:*** Available Device: _DeviceAttributes(/job:worker/replica:0/task:0/device:XLA_CPU:0, XLA_CPU, 17179869184, 12913491875793011610)\n",
            "INFO:tensorflow:*** Available Device: _DeviceAttributes(/job:worker/replica:0/task:0/device:TPU:0, TPU, 17179869184, 2934059433015577649)\n",
            "INFO:tensorflow:*** Available Device: _DeviceAttributes(/job:worker/replica:0/task:0/device:TPU:1, TPU, 17179869184, 13991698862631723669)\n",
            "INFO:tensorflow:*** Available Device: _DeviceAttributes(/job:worker/replica:0/task:0/device:TPU:2, TPU, 17179869184, 3074852103338586027)\n",
            "INFO:tensorflow:*** Available Device: _DeviceAttributes(/job:worker/replica:0/task:0/device:TPU:3, TPU, 17179869184, 10752040505108523305)\n",
            "INFO:tensorflow:*** Available Device: _DeviceAttributes(/job:worker/replica:0/task:0/device:TPU:4, TPU, 17179869184, 14335711635147623951)\n",
            "INFO:tensorflow:*** Available Device: _DeviceAttributes(/job:worker/replica:0/task:0/device:TPU:5, TPU, 17179869184, 3864049385990029249)\n",
            "INFO:tensorflow:*** Available Device: _DeviceAttributes(/job:worker/replica:0/task:0/device:TPU:6, TPU, 17179869184, 6252839698839327862)\n",
            "INFO:tensorflow:*** Available Device: _DeviceAttributes(/job:worker/replica:0/task:0/device:TPU:7, TPU, 17179869184, 6838566110196517659)\n",
            "INFO:tensorflow:*** Available Device: _DeviceAttributes(/job:worker/replica:0/task:0/device:TPU_SYSTEM:0, TPU_SYSTEM, 17179869184, 6174872438013558611)\n",
            "WARNING:tensorflow:tpu_model (from tensorflow.contrib.tpu.python.tpu.keras_support) is experimental and may change or be removed at any time, and without warning.\n",
            "Train on 80093 samples, validate on 20007 samples\n",
            "Epoch 1/5\n",
            "INFO:tensorflow:New input shapes; (re-)compiling: mode=train (# of cores 8), [TensorSpec(shape=(16,), dtype=tf.int32, name='core_id0'), TensorSpec(shape=(16, 40, 101), dtype=tf.float32, name='input_1_10'), TensorSpec(shape=(16, 31), dtype=tf.float32, name='dense_2_target_30')]\n",
            "INFO:tensorflow:Overriding default placeholder.\n",
            "INFO:tensorflow:Remapping placeholder for input_1\n",
            "INFO:tensorflow:Started compiling\n",
            "INFO:tensorflow:Finished compiling. Time elapsed: 8.065764904022217 secs\n",
            "INFO:tensorflow:Setting weights on TPU model.\n",
            "79872/80093 [============================>.] - ETA: 0s - loss: 0.1041 - acc: 0.9721INFO:tensorflow:New input shapes; (re-)compiling: mode=train (# of cores 8), [TensorSpec(shape=(11,), dtype=tf.int32, name='core_id0'), TensorSpec(shape=(11, 40, 101), dtype=tf.float32, name='input_1_10'), TensorSpec(shape=(11, 31), dtype=tf.float32, name='dense_2_target_30')]\n",
            "INFO:tensorflow:Overriding default placeholder.\n",
            "INFO:tensorflow:Remapping placeholder for input_1\n",
            "INFO:tensorflow:Started compiling\n",
            "INFO:tensorflow:Finished compiling. Time elapsed: 7.332690000534058 secs\n",
            "80000/80093 [============================>.] - ETA: 0s - loss: 0.1040 - acc: 0.9721INFO:tensorflow:New input shapes; (re-)compiling: mode=eval (# of cores 8), [TensorSpec(shape=(16,), dtype=tf.int32, name='core_id_10'), TensorSpec(shape=(16, 40, 101), dtype=tf.float32, name='input_1_10'), TensorSpec(shape=(16, 31), dtype=tf.float32, name='dense_2_target_30')]\n",
            "INFO:tensorflow:Overriding default placeholder.\n",
            "INFO:tensorflow:Remapping placeholder for input_1\n",
            "INFO:tensorflow:Started compiling\n",
            "INFO:tensorflow:Finished compiling. Time elapsed: 6.195574998855591 secs\n",
            "INFO:tensorflow:New input shapes; (re-)compiling: mode=eval (# of cores 8), [TensorSpec(shape=(4,), dtype=tf.int32, name='core_id_10'), TensorSpec(shape=(4, 40, 101), dtype=tf.float32, name='input_1_10'), TensorSpec(shape=(4, 31), dtype=tf.float32, name='dense_2_target_30')]\n",
            "INFO:tensorflow:Overriding default placeholder.\n",
            "INFO:tensorflow:Remapping placeholder for input_1\n",
            "INFO:tensorflow:Started compiling\n",
            "INFO:tensorflow:Finished compiling. Time elapsed: 5.475234031677246 secs\n",
            "80093/80093 [==============================] - 112s 1ms/sample - loss: 0.1039 - acc: 0.9721 - val_loss: 0.0433 - val_acc: 0.9853\n",
            "Epoch 2/5\n",
            "80093/80093 [==============================] - 60s 745us/sample - loss: 0.0393 - acc: 0.9870 - val_loss: 0.0263 - val_acc: 0.9914\n",
            "Epoch 3/5\n",
            "80093/80093 [==============================] - 60s 745us/sample - loss: 0.0267 - acc: 0.9914 - val_loss: 0.0172 - val_acc: 0.9945\n",
            "Epoch 4/5\n",
            "80093/80093 [==============================] - 58s 727us/sample - loss: 0.0212 - acc: 0.9933 - val_loss: 0.0179 - val_acc: 0.9942\n",
            "Epoch 5/5\n",
            "80093/80093 [==============================] - 59s 739us/sample - loss: 0.0182 - acc: 0.9943 - val_loss: 0.0124 - val_acc: 0.9960\n",
            "INFO:tensorflow:Copying TPU weights to the CPU\n",
            "WARNING:tensorflow:TensorFlow optimizers do not make it possible to access optimizer attributes or optimizer state after instantiation. As a result, we cannot save the optimizer as part of the model save file.You will have to compile your model again after loading it. Prefer using a Keras optimizer instead (see keras.io/optimizers).\n"
          ],
          "name": "stdout"
        }
      ]
    },
    {
      "metadata": {
        "id": "aU-bEVetRr6W",
        "colab_type": "code",
        "colab": {}
      },
      "cell_type": "code",
      "source": [
        ""
      ],
      "execution_count": 0,
      "outputs": []
    }
  ]
}