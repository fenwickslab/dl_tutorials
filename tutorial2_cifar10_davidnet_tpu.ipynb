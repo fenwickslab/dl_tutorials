{
  "nbformat": 4,
  "nbformat_minor": 0,
  "metadata": {
    "colab": {
      "name": "cifar10-davidnet-tpu.ipynb",
      "version": "0.3.2",
      "provenance": [],
      "collapsed_sections": []
    },
    "kernelspec": {
      "name": "python3",
      "display_name": "Python 3"
    },
    "accelerator": "TPU"
  },
  "cells": [
    {
      "metadata": {
        "id": "vinGehwdBAGm",
        "colab_type": "code",
        "colab": {}
      },
      "cell_type": "code",
      "source": [
        "import numpy as np\n",
        "import tensorflow as tf\n",
        "import os, json, datetime, math"
      ],
      "execution_count": 0,
      "outputs": []
    },
    {
      "metadata": {
        "id": "lwFyTRJZBIAz",
        "colab_type": "code",
        "colab": {}
      },
      "cell_type": "code",
      "source": [
        "BATCH_SIZE = 512 #@param {type:\"integer\"}\n",
        "MOMENTUM = 0.9 #@param {type:\"number\"}\n",
        "LEARNING_RATE = 0.4 #@param {type:\"number\"}\n",
        "WEIGHT_DECAY = 0.0005 #@param {type:\"number\"}\n",
        "EPOCHS = 24 #@param {type:\"integer\"}\n",
        "WARMUP = 5 #@param {type:\"integer\"}\n",
        "BUCKET = 'gs://gs_colab' #@param {type:\"string\"}\n"
      ],
      "execution_count": 0,
      "outputs": []
    },
    {
      "metadata": {
        "id": "wKUJ3WY-Kuvz",
        "colab_type": "code",
        "colab": {}
      },
      "cell_type": "code",
      "source": [
        "from google.colab import auth\n",
        "auth.authenticate_user()"
      ],
      "execution_count": 0,
      "outputs": []
    },
    {
      "metadata": {
        "id": "Lym1UVbDBX6x",
        "colab_type": "code",
        "outputId": "3eccfbde-fcfc-4eda-8f95-54821adba875",
        "colab": {
          "base_uri": "https://localhost:8080/",
          "height": 136
        }
      },
      "cell_type": "code",
      "source": [
        "with tf.Session('grpc://{}'.format(os.environ['COLAB_TPU_ADDR'])) as sess:\n",
        "  with open('/content/adc.json', 'r') as f:\n",
        "    auth_info = json.load(f)\n",
        "  tf.contrib.cloud.configure_gcs(sess, credentials=auth_info)"
      ],
      "execution_count": 0,
      "outputs": [
        {
          "output_type": "stream",
          "text": [
            "\n",
            "WARNING: The TensorFlow contrib module will not be included in TensorFlow 2.0.\n",
            "For more information, please see:\n",
            "  * https://github.com/tensorflow/community/blob/master/rfcs/20180907-contrib-sunset.md\n",
            "  * https://github.com/tensorflow/addons\n",
            "If you depend on functionality not listed there, please file an issue.\n",
            "\n"
          ],
          "name": "stdout"
        }
      ]
    },
    {
      "metadata": {
        "id": "c7m3a98uMOKe",
        "colab_type": "code",
        "outputId": "241723ab-06ee-45cc-8307-b652369f7c73",
        "colab": {
          "base_uri": "https://localhost:8080/",
          "height": 34
        }
      },
      "cell_type": "code",
      "source": [
        "TPU_ADDRESS = 'grpc://{}'.format(os.environ['COLAB_TPU_ADDR'])\n",
        "print('Using TPU:', TPU_ADDRESS)"
      ],
      "execution_count": 0,
      "outputs": [
        {
          "output_type": "stream",
          "text": [
            "Using TPU: grpc://10.49.64.218:8470\n"
          ],
          "name": "stdout"
        }
      ]
    },
    {
      "metadata": {
        "id": "xjAxNwaLHLDH",
        "colab_type": "code",
        "colab": {}
      },
      "cell_type": "code",
      "source": [
        "def get_ds_from_tfrec(data_dir, training, batch_size, num_parallel_calls=12, prefetch=8, dtype=tf.float32):\n",
        "\n",
        "  def _parser(serialized_example):\n",
        "    features = tf.parse_single_example(\n",
        "        serialized_example,\n",
        "        features={\n",
        "            \"image\": tf.FixedLenFeature([], tf.string),\n",
        "            \"label\": tf.FixedLenFeature([], tf.int64),\n",
        "        })\n",
        "    image = tf.decode_raw(features[\"image\"], tf.uint8)\n",
        "    image = tf.reshape(image, [3, 32, 32])\n",
        "    image = tf.transpose(image, [1, 2, 0])\n",
        "    image = tf.cast(image, dtype)\n",
        "    image = (image - [125.30691805, 122.95039414, 113.86538318]) / [62.99321928, 62.08870764, 66.70489964]\n",
        "    \n",
        "    label = features[\"label\"]\n",
        "\n",
        "    if training:\n",
        "      image = tf.pad(image, [[4, 4], [4, 4], [0, 0]], mode='reflect')\n",
        "      image = tf.random_crop(image, [32, 32, 3])\n",
        "      image = tf.image.random_flip_left_right(image)\n",
        "\n",
        "    return image, label\n",
        "\n",
        "  split = 'train' if training else 'test'\n",
        "  filename = os.path.join(data_dir, split + \".tfrecords\")\n",
        "  dataset = tf.data.TFRecordDataset(filename)\n",
        "  dataset = dataset.repeat()\n",
        "  dataset = dataset.map(_parser, num_parallel_calls=num_parallel_calls)\n",
        "\n",
        "  if training:\n",
        "    dataset = dataset.shuffle(50000, reshuffle_each_iteration=True)\n",
        "\n",
        "  dataset = dataset.batch(batch_size, drop_remainder=True)\n",
        "  dataset = dataset.prefetch(prefetch)\n",
        "\n",
        "  return dataset"
      ],
      "execution_count": 0,
      "outputs": []
    },
    {
      "metadata": {
        "id": "ifZEFwwzHazy",
        "colab_type": "code",
        "colab": {}
      },
      "cell_type": "code",
      "source": [
        "train_input_fn = lambda params: get_ds_from_tfrec(BUCKET + '/cifar10_tfrec', training=True, batch_size=params['batch_size'])\n",
        "eval_input_fn = lambda params: get_ds_from_tfrec(BUCKET + '/cifar10_tfrec', training=False, batch_size=params['batch_size'])"
      ],
      "execution_count": 0,
      "outputs": []
    },
    {
      "metadata": {
        "id": "IhCWwJkOpLUR",
        "colab_type": "code",
        "colab": {}
      },
      "cell_type": "code",
      "source": [
        "def init_pytorch(shape, dtype=tf.float32, partition_info=None):\n",
        "  fan = np.prod(shape[:-1])\n",
        "  bound = 1 / math.sqrt(fan)\n",
        "  return tf.random.uniform(shape, minval=-bound, maxval=bound, dtype=dtype)\n",
        "\n",
        "class ConvBN(tf.keras.Model):\n",
        "  def __init__(self, c_out):\n",
        "    super().__init__()\n",
        "    self.conv = tf.keras.layers.Conv2D(filters=c_out, kernel_size=3, padding=\"SAME\", kernel_initializer=init_pytorch, use_bias=False)\n",
        "    self.bn = tf.keras.layers.BatchNormalization(momentum=0.9, epsilon=1e-5)\n",
        "\n",
        "  def call(self, inputs):\n",
        "    return tf.nn.relu(self.bn(self.conv(inputs)))\n",
        "  \n",
        "class Blk(tf.keras.Model):\n",
        "  def __init__(self, c_out, pool):\n",
        "    super().__init__()\n",
        "    self.conv_bn = ConvBN(c_out)\n",
        "    self.pool = pool\n",
        "\n",
        "  def call(self, inputs):\n",
        "    return self.pool(self.conv_bn(inputs))\n",
        "  \n",
        "class ResBlk(tf.keras.Model):\n",
        "  def __init__(self, c_out, pool):\n",
        "    super().__init__()\n",
        "    self.blk = Blk(c_out, pool)\n",
        "    self.res1 = ConvBN(c_out)\n",
        "    self.res2 = ConvBN(c_out)\n",
        "\n",
        "  def call(self, inputs):\n",
        "    h = self.blk(inputs)\n",
        "    return h + self.res2(self.res1(h))\n",
        "  \n",
        "class DavidNet(tf.keras.Model):\n",
        "  def __init__(self, c=64, weight=0.125):\n",
        "    super().__init__()\n",
        "    pool = tf.keras.layers.MaxPooling2D()\n",
        "    self.init_conv_bn = ConvBN(c)\n",
        "    self.blk1 = ResBlk(c*2, pool)\n",
        "    self.blk2 = Blk(c*4, pool)\n",
        "    self.blk3 = ResBlk(c*8, pool)\n",
        "    self.pool = tf.keras.layers.GlobalMaxPool2D()\n",
        "    self.linear = tf.keras.layers.Dense(10, kernel_initializer=init_pytorch, use_bias=False)\n",
        "    self.weight = weight\n",
        "\n",
        "  def call(self, x):\n",
        "    h = self.pool(self.blk3(self.blk2(self.blk1(self.init_conv_bn(x)))))\n",
        "    return self.linear(h) * self.weight\n",
        "  \n",
        "  def compute_grads(self, loss):\n",
        "    var = self.trainable_variables\n",
        "    grads = tf.gradients(loss, var)\n",
        "    for g, v in zip(grads, self.trainable_variables):\n",
        "      g += v * WEIGHT_DECAY * BATCH_SIZE\n",
        "    return grads  "
      ],
      "execution_count": 0,
      "outputs": []
    },
    {
      "metadata": {
        "id": "B318eYzZy_ny",
        "colab_type": "code",
        "colab": {}
      },
      "cell_type": "code",
      "source": [
        "steps_per_epoch = 50000 // BATCH_SIZE"
      ],
      "execution_count": 0,
      "outputs": []
    },
    {
      "metadata": {
        "id": "Ts-03Jh6Fty-",
        "colab_type": "code",
        "colab": {}
      },
      "cell_type": "code",
      "source": [
        "def model_fn(features, labels, mode, params):\n",
        "  phase = 1 if mode == tf.estimator.ModeKeys.TRAIN else 0\n",
        "  tf.keras.backend.set_learning_phase(phase)\n",
        "\n",
        "  model = DavidNet()\n",
        "  logits = model(features)\n",
        "  \n",
        "  step = tf.train.get_or_create_global_step()\n",
        "  lr_schedule = lambda t: tf.cond(tf.less_equal(t, WARMUP), lambda: t * LEARNING_RATE / WARMUP, lambda: (EPOCHS-t) * LEARNING_RATE / (EPOCHS - WARMUP))\n",
        "  lr_func = lambda: lr_schedule(tf.cast(step, tf.float32)/steps_per_epoch)/BATCH_SIZE\n",
        "\n",
        "  opt = tf.train.MomentumOptimizer(lr_func, momentum=MOMENTUM, use_nesterov=True)\n",
        "  opt = tf.contrib.tpu.CrossShardOptimizer(opt, reduction=tf.losses.Reduction.SUM)\n",
        "\n",
        "  loss = tf.losses.sparse_softmax_cross_entropy(labels, logits, reduction=tf.losses.Reduction.SUM)\n",
        "\n",
        "  grads = model.compute_grads(loss)\n",
        "  with tf.control_dependencies(model.get_updates_for(features)):\n",
        "    train_op = opt.apply_gradients(zip(grads, model.trainable_variables), global_step=step)\n",
        "\n",
        "  classes = tf.math.argmax(logits, axis=-1)\n",
        "  metric_fn = lambda classes, labels: {'accuracy': tf.metrics.accuracy(classes, labels)}\n",
        "  tpu_metrics = (metric_fn, [classes, labels])\n",
        "  \n",
        "  return tf.contrib.tpu.TPUEstimatorSpec(\n",
        "    mode=mode,\n",
        "    loss=loss,\n",
        "    train_op=train_op,\n",
        "    eval_metrics = tpu_metrics\n",
        "  )"
      ],
      "execution_count": 0,
      "outputs": []
    },
    {
      "metadata": {
        "id": "crEvfYhhaohI",
        "colab_type": "code",
        "outputId": "b6b07737-200c-4deb-d253-4af28385db4a",
        "colab": {
          "base_uri": "https://localhost:8080/",
          "height": 2655
        }
      },
      "cell_type": "code",
      "source": [
        "now = datetime.datetime.now()\n",
        "MODEL_DIR = BUCKET+\"/cifar10jobs/job\" + \"-{}-{:02d}-{:02d}-{:02d}:{:02d}:{:02d}\".format(now.year, now.month, now.day, now.hour, now.minute, now.second)\n",
        "\n",
        "training_config = tf.contrib.tpu.RunConfig(\n",
        "    cluster=tf.contrib.cluster_resolver.TPUClusterResolver(TPU_ADDRESS),\n",
        "    model_dir=MODEL_DIR,\n",
        "    tpu_config=tf.contrib.tpu.TPUConfig(\n",
        "    iterations_per_loop=steps_per_epoch,\n",
        "    per_host_input_for_training=tf.contrib.tpu.InputPipelineConfig.PER_HOST_V2))\n",
        "   \n",
        "estimator = tf.contrib.tpu.TPUEstimator(\n",
        "    model_fn=model_fn,\n",
        "    model_dir=MODEL_DIR,\n",
        "    train_batch_size=BATCH_SIZE,\n",
        "    eval_batch_size=10000,\n",
        "    config=training_config)\n",
        "\n",
        "estimator.train(train_input_fn, steps=steps_per_epoch*EPOCHS)"
      ],
      "execution_count": 0,
      "outputs": [
        {
          "output_type": "stream",
          "text": [
            "WARNING:tensorflow:Estimator's model_fn (<function model_fn at 0x7fd24e45cae8>) includes params argument, but params are not passed to Estimator.\n",
            "INFO:tensorflow:Using config: {'_model_dir': 'gs://gs_colab/cifar10jobs/job-2019-03-11-11:56:35', '_tf_random_seed': None, '_save_summary_steps': 100, '_save_checkpoints_steps': None, '_save_checkpoints_secs': 600, '_session_config': allow_soft_placement: true\n",
            "cluster_def {\n",
            "  job {\n",
            "    name: \"worker\"\n",
            "    tasks {\n",
            "      value: \"10.49.64.218:8470\"\n",
            "    }\n",
            "  }\n",
            "}\n",
            ", '_keep_checkpoint_max': 5, '_keep_checkpoint_every_n_hours': 10000, '_log_step_count_steps': None, '_train_distribute': None, '_device_fn': None, '_protocol': None, '_eval_distribute': None, '_experimental_distribute': None, '_service': None, '_cluster_spec': <tensorflow.python.training.server_lib.ClusterSpec object at 0x7fd2361a3b38>, '_task_type': 'worker', '_task_id': 0, '_global_id_in_cluster': 0, '_master': 'grpc://10.49.64.218:8470', '_evaluation_master': 'grpc://10.49.64.218:8470', '_is_chief': True, '_num_ps_replicas': 0, '_num_worker_replicas': 1, '_tpu_config': TPUConfig(iterations_per_loop=97, num_shards=None, num_cores_per_replica=None, per_host_input_for_training=3, tpu_job_name=None, initial_infeed_sleep_secs=None, input_partition_dims=None), '_cluster': <tensorflow.python.distribute.cluster_resolver.tpu_cluster_resolver.TPUClusterResolver object at 0x7fd23611d748>}\n",
            "INFO:tensorflow:_TPUContext: eval_on_tpu True\n",
            "INFO:tensorflow:Querying Tensorflow master (grpc://10.49.64.218:8470) for TPU system metadata.\n",
            "INFO:tensorflow:Found TPU system:\n",
            "INFO:tensorflow:*** Num TPU Cores: 8\n",
            "INFO:tensorflow:*** Num TPU Workers: 1\n",
            "INFO:tensorflow:*** Num TPU Cores Per Worker: 8\n",
            "INFO:tensorflow:*** Available Device: _DeviceAttributes(/job:worker/replica:0/task:0/device:CPU:0, CPU, -1, 12968447196593768987)\n",
            "INFO:tensorflow:*** Available Device: _DeviceAttributes(/job:worker/replica:0/task:0/device:XLA_CPU:0, XLA_CPU, 17179869184, 7978529037985230006)\n",
            "INFO:tensorflow:*** Available Device: _DeviceAttributes(/job:worker/replica:0/task:0/device:TPU:0, TPU, 17179869184, 11964794241821052719)\n",
            "INFO:tensorflow:*** Available Device: _DeviceAttributes(/job:worker/replica:0/task:0/device:TPU:1, TPU, 17179869184, 10353566086852037030)\n",
            "INFO:tensorflow:*** Available Device: _DeviceAttributes(/job:worker/replica:0/task:0/device:TPU:2, TPU, 17179869184, 6467657715866721414)\n",
            "INFO:tensorflow:*** Available Device: _DeviceAttributes(/job:worker/replica:0/task:0/device:TPU:3, TPU, 17179869184, 8283552237155318678)\n",
            "INFO:tensorflow:*** Available Device: _DeviceAttributes(/job:worker/replica:0/task:0/device:TPU:4, TPU, 17179869184, 14029132454408107991)\n",
            "INFO:tensorflow:*** Available Device: _DeviceAttributes(/job:worker/replica:0/task:0/device:TPU:5, TPU, 17179869184, 5259751688282921805)\n",
            "INFO:tensorflow:*** Available Device: _DeviceAttributes(/job:worker/replica:0/task:0/device:TPU:6, TPU, 17179869184, 10926967324631257872)\n",
            "INFO:tensorflow:*** Available Device: _DeviceAttributes(/job:worker/replica:0/task:0/device:TPU:7, TPU, 17179869184, 13460029925039153810)\n",
            "INFO:tensorflow:*** Available Device: _DeviceAttributes(/job:worker/replica:0/task:0/device:TPU_SYSTEM:0, TPU_SYSTEM, 17179869184, 13967210111424403918)\n",
            "WARNING:tensorflow:From /usr/local/lib/python3.6/dist-packages/tensorflow/python/ops/resource_variable_ops.py:435: colocate_with (from tensorflow.python.framework.ops) is deprecated and will be removed in a future version.\n",
            "Instructions for updating:\n",
            "Colocations handled automatically by placer.\n",
            "INFO:tensorflow:Calling model_fn.\n",
            "WARNING:tensorflow:From /usr/local/lib/python3.6/dist-packages/tensorflow/python/ops/losses/losses_impl.py:209: to_float (from tensorflow.python.ops.math_ops) is deprecated and will be removed in a future version.\n",
            "Instructions for updating:\n",
            "Use tf.cast instead.\n",
            "WARNING:tensorflow:From /usr/local/lib/python3.6/dist-packages/tensorflow/python/ops/math_ops.py:3066: to_int32 (from tensorflow.python.ops.math_ops) is deprecated and will be removed in a future version.\n",
            "Instructions for updating:\n",
            "Use tf.cast instead.\n",
            "WARNING:tensorflow:From /usr/local/lib/python3.6/dist-packages/tensorflow/python/ops/math_grad.py:102: div (from tensorflow.python.ops.math_ops) is deprecated and will be removed in a future version.\n",
            "Instructions for updating:\n",
            "Deprecated in favor of operator or tf.math.divide.\n",
            "INFO:tensorflow:Create CheckpointSaverHook.\n",
            "INFO:tensorflow:Done calling model_fn.\n",
            "INFO:tensorflow:TPU job name worker\n",
            "INFO:tensorflow:Graph was finalized.\n",
            "INFO:tensorflow:Running local_init_op.\n",
            "INFO:tensorflow:Done running local_init_op.\n",
            "INFO:tensorflow:Saving checkpoints for 0 into gs://gs_colab/cifar10jobs/job-2019-03-11-11:56:35/model.ckpt.\n",
            "INFO:tensorflow:Initialized dataset iterators in 0 seconds\n",
            "INFO:tensorflow:Installing graceful shutdown hook.\n",
            "INFO:tensorflow:Creating heartbeat manager for ['/job:worker/replica:0/task:0/device:CPU:0']\n",
            "INFO:tensorflow:Configuring worker heartbeat: shutdown_mode: WAIT_FOR_COORDINATOR\n",
            "\n",
            "INFO:tensorflow:Init TPU system\n",
            "INFO:tensorflow:Initialized TPU in 7 seconds\n",
            "INFO:tensorflow:Starting infeed thread controller.\n",
            "INFO:tensorflow:Starting outfeed thread controller.\n",
            "INFO:tensorflow:Enqueue next (97) batch(es) of data to infeed.\n",
            "INFO:tensorflow:Dequeue next (97) batch(es) of data from outfeed.\n",
            "INFO:tensorflow:loss = 72.74621, step = 97\n",
            "INFO:tensorflow:Enqueue next (97) batch(es) of data to infeed.\n",
            "INFO:tensorflow:Dequeue next (97) batch(es) of data from outfeed.\n",
            "INFO:tensorflow:Enqueue next (97) batch(es) of data to infeed.\n",
            "INFO:tensorflow:Dequeue next (97) batch(es) of data from outfeed.\n",
            "INFO:tensorflow:loss = 33.65617, step = 291 (3.647 sec)\n",
            "INFO:tensorflow:global_step/sec: 53.1885\n",
            "INFO:tensorflow:examples/sec: 27232.5\n",
            "INFO:tensorflow:Enqueue next (97) batch(es) of data to infeed.\n",
            "INFO:tensorflow:Dequeue next (97) batch(es) of data from outfeed.\n",
            "INFO:tensorflow:Enqueue next (97) batch(es) of data to infeed.\n",
            "INFO:tensorflow:Dequeue next (97) batch(es) of data from outfeed.\n",
            "INFO:tensorflow:loss = 17.613596, step = 485 (3.286 sec)\n",
            "INFO:tensorflow:global_step/sec: 59.0279\n",
            "INFO:tensorflow:examples/sec: 30222.3\n",
            "INFO:tensorflow:Enqueue next (97) batch(es) of data to infeed.\n",
            "INFO:tensorflow:Dequeue next (97) batch(es) of data from outfeed.\n",
            "INFO:tensorflow:Enqueue next (97) batch(es) of data to infeed.\n",
            "INFO:tensorflow:Dequeue next (97) batch(es) of data from outfeed.\n",
            "INFO:tensorflow:loss = 22.141268, step = 679 (3.288 sec)\n",
            "INFO:tensorflow:global_step/sec: 59.0129\n",
            "INFO:tensorflow:examples/sec: 30214.6\n",
            "INFO:tensorflow:Enqueue next (97) batch(es) of data to infeed.\n",
            "INFO:tensorflow:Dequeue next (97) batch(es) of data from outfeed.\n",
            "INFO:tensorflow:Enqueue next (97) batch(es) of data to infeed.\n",
            "INFO:tensorflow:Dequeue next (97) batch(es) of data from outfeed.\n",
            "INFO:tensorflow:loss = 10.375953, step = 873 (3.266 sec)\n",
            "INFO:tensorflow:global_step/sec: 59.3851\n",
            "INFO:tensorflow:examples/sec: 30405.2\n",
            "INFO:tensorflow:Enqueue next (97) batch(es) of data to infeed.\n",
            "INFO:tensorflow:Dequeue next (97) batch(es) of data from outfeed.\n",
            "INFO:tensorflow:Enqueue next (97) batch(es) of data to infeed.\n",
            "INFO:tensorflow:Dequeue next (97) batch(es) of data from outfeed.\n",
            "INFO:tensorflow:loss = 11.782383, step = 1067 (3.217 sec)\n",
            "INFO:tensorflow:global_step/sec: 60.2965\n",
            "INFO:tensorflow:examples/sec: 30871.8\n",
            "INFO:tensorflow:Enqueue next (97) batch(es) of data to infeed.\n",
            "INFO:tensorflow:Dequeue next (97) batch(es) of data from outfeed.\n",
            "INFO:tensorflow:Enqueue next (97) batch(es) of data to infeed.\n",
            "INFO:tensorflow:Dequeue next (97) batch(es) of data from outfeed.\n",
            "INFO:tensorflow:loss = 9.016605, step = 1261 (3.305 sec)\n",
            "INFO:tensorflow:global_step/sec: 58.7\n",
            "INFO:tensorflow:examples/sec: 30054.4\n",
            "INFO:tensorflow:Enqueue next (97) batch(es) of data to infeed.\n",
            "INFO:tensorflow:Dequeue next (97) batch(es) of data from outfeed.\n",
            "INFO:tensorflow:Enqueue next (97) batch(es) of data to infeed.\n",
            "INFO:tensorflow:Dequeue next (97) batch(es) of data from outfeed.\n",
            "INFO:tensorflow:loss = 3.9801877, step = 1455 (3.282 sec)\n",
            "INFO:tensorflow:global_step/sec: 59.113\n",
            "INFO:tensorflow:examples/sec: 30265.8\n",
            "INFO:tensorflow:Enqueue next (97) batch(es) of data to infeed.\n",
            "INFO:tensorflow:Dequeue next (97) batch(es) of data from outfeed.\n",
            "INFO:tensorflow:Enqueue next (97) batch(es) of data to infeed.\n",
            "INFO:tensorflow:Dequeue next (97) batch(es) of data from outfeed.\n",
            "INFO:tensorflow:loss = 3.0566401, step = 1649 (3.292 sec)\n",
            "INFO:tensorflow:global_step/sec: 58.9189\n",
            "INFO:tensorflow:examples/sec: 30166.5\n",
            "INFO:tensorflow:Enqueue next (97) batch(es) of data to infeed.\n",
            "INFO:tensorflow:Dequeue next (97) batch(es) of data from outfeed.\n",
            "INFO:tensorflow:Enqueue next (97) batch(es) of data to infeed.\n",
            "INFO:tensorflow:Dequeue next (97) batch(es) of data from outfeed.\n",
            "INFO:tensorflow:loss = 2.0119815, step = 1843 (3.320 sec)\n",
            "INFO:tensorflow:global_step/sec: 58.4752\n",
            "INFO:tensorflow:examples/sec: 29939.3\n",
            "INFO:tensorflow:Enqueue next (97) batch(es) of data to infeed.\n",
            "INFO:tensorflow:Dequeue next (97) batch(es) of data from outfeed.\n",
            "INFO:tensorflow:Enqueue next (97) batch(es) of data to infeed.\n",
            "INFO:tensorflow:Dequeue next (97) batch(es) of data from outfeed.\n",
            "INFO:tensorflow:loss = 3.9703574, step = 2037 (3.270 sec)\n",
            "INFO:tensorflow:global_step/sec: 59.3303\n",
            "INFO:tensorflow:examples/sec: 30377.1\n",
            "INFO:tensorflow:Enqueue next (97) batch(es) of data to infeed.\n",
            "INFO:tensorflow:Dequeue next (97) batch(es) of data from outfeed.\n",
            "INFO:tensorflow:Enqueue next (97) batch(es) of data to infeed.\n",
            "INFO:tensorflow:Dequeue next (97) batch(es) of data from outfeed.\n",
            "INFO:tensorflow:loss = 4.974458, step = 2231 (3.307 sec)\n",
            "INFO:tensorflow:global_step/sec: 58.6587\n",
            "INFO:tensorflow:examples/sec: 30033.2\n",
            "INFO:tensorflow:Enqueue next (97) batch(es) of data to infeed.\n",
            "INFO:tensorflow:Dequeue next (97) batch(es) of data from outfeed.\n",
            "INFO:tensorflow:Saving checkpoints for 2328 into gs://gs_colab/cifar10jobs/job-2019-03-11-11:56:35/model.ckpt.\n",
            "INFO:tensorflow:Stop infeed thread controller\n",
            "INFO:tensorflow:Shutting down InfeedController thread.\n",
            "INFO:tensorflow:InfeedController received shutdown signal, stopping.\n",
            "INFO:tensorflow:Infeed thread finished, shutting down.\n",
            "INFO:tensorflow:infeed marked as finished\n",
            "INFO:tensorflow:Stop output thread controller\n",
            "INFO:tensorflow:Shutting down OutfeedController thread.\n",
            "INFO:tensorflow:OutfeedController received shutdown signal, stopping.\n",
            "INFO:tensorflow:Outfeed thread finished, shutting down.\n",
            "INFO:tensorflow:outfeed marked as finished\n",
            "INFO:tensorflow:Shutdown TPU system.\n",
            "INFO:tensorflow:Loss for final step: 3.2316332.\n",
            "INFO:tensorflow:training_loop marked as finished\n"
          ],
          "name": "stdout"
        },
        {
          "output_type": "execute_result",
          "data": {
            "text/plain": [
              "<tensorflow.contrib.tpu.python.tpu.tpu_estimator.TPUEstimator at 0x7fd23611d710>"
            ]
          },
          "metadata": {
            "tags": []
          },
          "execution_count": 11
        }
      ]
    },
    {
      "metadata": {
        "id": "m6sju7JJxTfR",
        "colab_type": "code",
        "outputId": "57f52a2e-39e7-4750-f70c-c7c93f209188",
        "colab": {
          "base_uri": "https://localhost:8080/",
          "height": 612
        }
      },
      "cell_type": "code",
      "source": [
        "estimator.evaluate(input_fn=eval_input_fn, steps=1)"
      ],
      "execution_count": 0,
      "outputs": [
        {
          "output_type": "stream",
          "text": [
            "INFO:tensorflow:Calling model_fn.\n",
            "INFO:tensorflow:Done calling model_fn.\n",
            "INFO:tensorflow:Starting evaluation at 2019-03-11T11:57:48Z\n",
            "INFO:tensorflow:TPU job name worker\n",
            "INFO:tensorflow:Graph was finalized.\n",
            "WARNING:tensorflow:From /usr/local/lib/python3.6/dist-packages/tensorflow/python/training/saver.py:1266: checkpoint_exists (from tensorflow.python.training.checkpoint_management) is deprecated and will be removed in a future version.\n",
            "Instructions for updating:\n",
            "Use standard file APIs to check for files with this prefix.\n",
            "INFO:tensorflow:Restoring parameters from gs://gs_colab/cifar10jobs/job-2019-03-11-11:56:35/model.ckpt-2328\n",
            "INFO:tensorflow:Running local_init_op.\n",
            "INFO:tensorflow:Done running local_init_op.\n",
            "INFO:tensorflow:Init TPU system\n",
            "INFO:tensorflow:Initialized TPU in 10 seconds\n",
            "INFO:tensorflow:Starting infeed thread controller.\n",
            "INFO:tensorflow:Starting outfeed thread controller.\n",
            "INFO:tensorflow:Initialized dataset iterators in 0 seconds\n",
            "INFO:tensorflow:Enqueue next (1) batch(es) of data to infeed.\n",
            "INFO:tensorflow:Dequeue next (1) batch(es) of data from outfeed.\n",
            "INFO:tensorflow:Evaluation [1/1]\n",
            "INFO:tensorflow:Stop infeed thread controller\n",
            "INFO:tensorflow:Shutting down InfeedController thread.\n",
            "INFO:tensorflow:InfeedController received shutdown signal, stopping.\n",
            "INFO:tensorflow:Infeed thread finished, shutting down.\n",
            "INFO:tensorflow:infeed marked as finished\n",
            "INFO:tensorflow:Stop output thread controller\n",
            "INFO:tensorflow:Shutting down OutfeedController thread.\n",
            "INFO:tensorflow:OutfeedController received shutdown signal, stopping.\n",
            "INFO:tensorflow:Outfeed thread finished, shutting down.\n",
            "INFO:tensorflow:outfeed marked as finished\n",
            "INFO:tensorflow:Shutdown TPU system.\n",
            "INFO:tensorflow:Finished evaluation at 2019-03-11-11:58:04\n",
            "INFO:tensorflow:Saving dict for global step 2328: accuracy = 0.9302, global_step = 2328, loss = 262.35968\n",
            "INFO:tensorflow:Saving 'checkpoint_path' summary for global step 2328: gs://gs_colab/cifar10jobs/job-2019-03-11-11:56:35/model.ckpt-2328\n",
            "INFO:tensorflow:evaluation_loop marked as finished\n"
          ],
          "name": "stdout"
        },
        {
          "output_type": "execute_result",
          "data": {
            "text/plain": [
              "{'accuracy': 0.9302, 'global_step': 2328, 'loss': 262.35968}"
            ]
          },
          "metadata": {
            "tags": []
          },
          "execution_count": 12
        }
      ]
    },
    {
      "metadata": {
        "id": "rnBoCSJrv8dA",
        "colab_type": "code",
        "colab": {}
      },
      "cell_type": "code",
      "source": [
        ""
      ],
      "execution_count": 0,
      "outputs": []
    }
  ]
}